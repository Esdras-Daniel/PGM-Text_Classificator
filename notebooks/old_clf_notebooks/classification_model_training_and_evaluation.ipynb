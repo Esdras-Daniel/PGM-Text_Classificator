{
 "cells": [
  {
   "cell_type": "code",
   "execution_count": 2,
   "metadata": {},
   "outputs": [],
   "source": [
    "import numpy as np\n",
    "import pandas as pd\n",
    "\n",
    "from collections import Counter\n",
    "\n",
    "import warnings\n",
    "warnings.filterwarnings('ignore')"
   ]
  },
  {
   "cell_type": "markdown",
   "metadata": {},
   "source": [
    "# 0. Inicializando Ambiente Django no Notebook"
   ]
  },
  {
   "cell_type": "code",
   "execution_count": 3,
   "metadata": {},
   "outputs": [],
   "source": [
    "import os, sys\n",
    "sys.path.insert(0, os.path.abspath('..'))\n",
    "\n",
    "from django_for_jupyter import init_django\n",
    "init_django('app')"
   ]
  },
  {
   "cell_type": "markdown",
   "metadata": {},
   "source": [
    "# 1. Lendo do Banco de Dados e Salvando em um DataFrame Pandas"
   ]
  },
  {
   "cell_type": "code",
   "execution_count": 4,
   "metadata": {},
   "outputs": [
    {
     "data": {
      "text/html": [
       "<div>\n",
       "<style scoped>\n",
       "    .dataframe tbody tr th:only-of-type {\n",
       "        vertical-align: middle;\n",
       "    }\n",
       "\n",
       "    .dataframe tbody tr th {\n",
       "        vertical-align: top;\n",
       "    }\n",
       "\n",
       "    .dataframe thead th {\n",
       "        text-align: right;\n",
       "    }\n",
       "</style>\n",
       "<table border=\"1\" class=\"dataframe\">\n",
       "  <thead>\n",
       "    <tr style=\"text-align: right;\">\n",
       "      <th></th>\n",
       "      <th>teor_texto</th>\n",
       "      <th>orgao_julgador</th>\n",
       "      <th>classe_processo</th>\n",
       "      <th>assuntos</th>\n",
       "      <th>setor_destino</th>\n",
       "    </tr>\n",
       "  </thead>\n",
       "  <tbody>\n",
       "    <tr>\n",
       "      <th>0</th>\n",
       "      <td>PODER JUDICIÁRIO ESTADO DO RIO GRANDE DO NORTE...</td>\n",
       "      <td>2ª VIJ da Com. Natal</td>\n",
       "      <td>1706</td>\n",
       "      <td>12485;12494</td>\n",
       "      <td>Saúde</td>\n",
       "    </tr>\n",
       "    <tr>\n",
       "      <th>1</th>\n",
       "      <td>PODER JUDICIÁRIO DO ESTADO DO RIO GRANDE DO NO...</td>\n",
       "      <td>3º JFP da Com. Natal</td>\n",
       "      <td>14695</td>\n",
       "      <td>10715</td>\n",
       "      <td>Administrativa</td>\n",
       "    </tr>\n",
       "    <tr>\n",
       "      <th>2</th>\n",
       "      <td>PODER JUDICIÁRIO DO ESTADO DO RIO GRANDE DO NO...</td>\n",
       "      <td>5ª VEFT de Natal</td>\n",
       "      <td>156</td>\n",
       "      <td>9518</td>\n",
       "      <td>Fiscal</td>\n",
       "    </tr>\n",
       "  </tbody>\n",
       "</table>\n",
       "</div>"
      ],
      "text/plain": [
       "                                          teor_texto        orgao_julgador  \\\n",
       "0  PODER JUDICIÁRIO ESTADO DO RIO GRANDE DO NORTE...  2ª VIJ da Com. Natal   \n",
       "1  PODER JUDICIÁRIO DO ESTADO DO RIO GRANDE DO NO...  3º JFP da Com. Natal   \n",
       "2  PODER JUDICIÁRIO DO ESTADO DO RIO GRANDE DO NO...      5ª VEFT de Natal   \n",
       "\n",
       "  classe_processo     assuntos   setor_destino  \n",
       "0            1706  12485;12494           Saúde  \n",
       "1           14695        10715  Administrativa  \n",
       "2             156         9518          Fiscal  "
      ]
     },
     "execution_count": 4,
     "metadata": {},
     "output_type": "execute_result"
    }
   ],
   "source": [
    "from api.models import TextosJuridicosTreinamento\n",
    "\n",
    "qs = TextosJuridicosTreinamento.objects.all()\n",
    "data = qs.values('teor_texto', 'orgao_julgador', 'classe_processo', 'assuntos', 'setor_destino')\n",
    "\n",
    "df = pd.DataFrame(data)\n",
    "df.head(3)"
   ]
  },
  {
   "cell_type": "code",
   "execution_count": 5,
   "metadata": {},
   "outputs": [
    {
     "data": {
      "text/plain": [
       "Counter({'Fiscal': 6686,\n",
       "         'Administrativa': 5403,\n",
       "         'Contabilidade': 1338,\n",
       "         'Judicial': 1137,\n",
       "         'Saúde': 443,\n",
       "         'Meio Ambiente': 155,\n",
       "         'Patrimonial': 121})"
      ]
     },
     "execution_count": 5,
     "metadata": {},
     "output_type": "execute_result"
    }
   ],
   "source": [
    "Counter(df['setor_destino'])"
   ]
  },
  {
   "cell_type": "markdown",
   "metadata": {},
   "source": [
    "# 2. Separando dados de treinamento/teste"
   ]
  },
  {
   "cell_type": "markdown",
   "metadata": {},
   "source": [
    "## 2.1 - Separando os dados de forma estratificada"
   ]
  },
  {
   "cell_type": "code",
   "execution_count": 5,
   "metadata": {},
   "outputs": [
    {
     "name": "stdout",
     "output_type": "stream",
     "text": [
      "Shape dos dados de treinamento: (10698, 5)\n",
      "Shape dos dados de teste: (4585, 5)\n"
     ]
    }
   ],
   "source": [
    "from sklearn.model_selection import train_test_split\n",
    "\n",
    "y = df['setor_destino'].to_numpy()\n",
    "\n",
    "X_train_unbalanced, X_test, y_train_unbalacend, y_test = train_test_split(df, y, test_size=0.3, stratify=y, random_state=42)\n",
    "print(f'Shape dos dados de treinamento: {X_train_unbalanced.shape}')\n",
    "print(f'Shape dos dados de teste: {X_test.shape}')"
   ]
  },
  {
   "cell_type": "markdown",
   "metadata": {},
   "source": [
    "## 2.2 - *Upsampling* e *Downsampling* dos dados de treinamento"
   ]
  },
  {
   "cell_type": "code",
   "execution_count": 6,
   "metadata": {},
   "outputs": [],
   "source": [
    "def balance_df(df: pd.DataFrame, balance_on:str = 'setor_destino', n_samples:int = 500):\n",
    "    unique_classes = df[balance_on].unique()\n",
    "    \n",
    "    dfs_list = []\n",
    "\n",
    "    for classe in unique_classes:\n",
    "        if len(df[df[balance_on] == classe]) >= n_samples:\n",
    "            dfs_list.append(df[df[balance_on] == classe].sample(n=n_samples, replace=False))\n",
    "        else:\n",
    "            dfs_list.append(df[df[balance_on] == classe].sample(n=n_samples, replace=True))\n",
    "    \n",
    "    df_balanceado = pd.concat(dfs_list)\n",
    "\n",
    "    return df_balanceado.sample(frac=1, replace=False)\n",
    "\n",
    "X_train_balanced = balance_df(X_train_unbalanced, balance_on='setor_destino', n_samples=500)\n",
    "y_train_balanced = X_train_balanced['setor_destino']"
   ]
  },
  {
   "cell_type": "code",
   "execution_count": 7,
   "metadata": {},
   "outputs": [
    {
     "name": "stdout",
     "output_type": "stream",
     "text": [
      "\n",
      "\n",
      "DISTRIBUIÇÃO DOS DADOS DE TREINAMENTO BALANCEADOS\n",
      "setor_destino\n",
      "Contabilidade     500\n",
      "Patrimonial       500\n",
      "Saúde             500\n",
      "Administrativa    500\n",
      "Fiscal            500\n",
      "Judicial          500\n",
      "Meio Ambiente     500\n",
      "Name: count, dtype: int64\n",
      "\n",
      "\n",
      "DISTRIBUIÇÃO DOS DADOS DE TREINAMENTO DESBALANCEADOS\n",
      "setor_destino\n",
      "Fiscal            4680\n",
      "Administrativa    3782\n",
      "Contabilidade      937\n",
      "Judicial           796\n",
      "Saúde              310\n",
      "Meio Ambiente      108\n",
      "Patrimonial         85\n",
      "Name: count, dtype: int64\n",
      "\n",
      "\n",
      "DISTRIBUIÇÃO DOS DADOS DE TESTE\n",
      "setor_destino\n",
      "Fiscal            2006\n",
      "Administrativa    1621\n",
      "Contabilidade      401\n",
      "Judicial           341\n",
      "Saúde              133\n",
      "Meio Ambiente       47\n",
      "Patrimonial         36\n",
      "Name: count, dtype: int64\n"
     ]
    }
   ],
   "source": [
    "print(f'\\n\\nDISTRIBUIÇÃO DOS DADOS DE TREINAMENTO BALANCEADOS\\n{X_train_balanced['setor_destino'].value_counts()}')\n",
    "print(f'\\n\\nDISTRIBUIÇÃO DOS DADOS DE TREINAMENTO DESBALANCEADOS\\n{X_train_unbalanced['setor_destino'].value_counts()}')\n",
    "print(f'\\n\\nDISTRIBUIÇÃO DOS DADOS DE TESTE\\n{X_test['setor_destino'].value_counts()}')"
   ]
  },
  {
   "cell_type": "markdown",
   "metadata": {},
   "source": [
    "# 3. Definindo os Transformadores"
   ]
  },
  {
   "cell_type": "code",
   "execution_count": 16,
   "metadata": {},
   "outputs": [
    {
     "data": {
      "text/plain": [
       "'# --- Transformadores personalizados ---\\n\\nclass StringToListTransformer(BaseEstimator, TransformerMixin):\\n    \"\"\"Converte string em lista (usado para assuntos e campos categóricos com um valor só)\"\"\"\\n    def __init__(self, sep=\\';\\'):\\n        self.sep = sep\\n\\n    def fit(self, X, y=None):\\n        return self\\n\\n    def transform(self, X):\\n        return X.apply(lambda val: val.split(self.sep) if isinstance(val, str) else []).values.reshape(-1, 1)\\n\\nclass MultiLabelBinarizerWrapper(BaseEstimator, TransformerMixin):\\n    def __init__(self):\\n        self.mlb = MultiLabelBinarizer()\\n\\n    def fit(self, X, y=None):\\n        X_flat = [x[0] for x in X]\\n        return self.mlb.fit(X_flat)\\n\\n    def transform(self, X):\\n        X_flat = [x[0] for x in X]\\n        return self.mlb.transform(X_flat)\\n\\nclass CategoricalPipeline(BaseEstimator, TransformerMixin):\\n    \"\"\"Pipeline para orgao_julgador e classe_processo com MLB\"\"\"\\n    def fit(self, X, y=None):\\n        self.to_list = StringToListTransformer(sep=\\';\\')\\n        X_list = self.to_list.transform(X)\\n        self.binarizer = MultiLabelBinarizerWrapper()\\n        self.binarizer.fit(X_list)\\n        return self\\n\\n    def transform(self, X):\\n        X_list = self.to_list.transform(X)\\n        return self.binarizer.transform(X_list)\\n\\nclass AssuntosPipeline(BaseEstimator, TransformerMixin):\\n    def fit(self, X, y=None):\\n        self.splitter = StringToListTransformer(sep=\\';\\')\\n        X_split = self.splitter.transform(X)\\n        self.binarizer = MultiLabelBinarizerWrapper()\\n        self.binarizer.fit(X_split)\\n        return self\\n\\n    def transform(self, X):\\n        X_split = self.splitter.transform(X)\\n        return self.binarizer.transform(X_split)'"
      ]
     },
     "execution_count": 16,
     "metadata": {},
     "output_type": "execute_result"
    }
   ],
   "source": [
    "from sklearn.base import BaseEstimator, TransformerMixin\n",
    "from sklearn.preprocessing import MultiLabelBinarizer\n",
    "from sklearn.feature_extraction.text import TfidfVectorizer\n",
    "\n",
    "from api.utils.transformers import AssuntosPipeline, CategoricalPipeline\n",
    "\n",
    "\n",
    "'''# --- Transformadores personalizados ---\n",
    "\n",
    "class StringToListTransformer(BaseEstimator, TransformerMixin):\n",
    "    \"\"\"Converte string em lista (usado para assuntos e campos categóricos com um valor só)\"\"\"\n",
    "    def __init__(self, sep=';'):\n",
    "        self.sep = sep\n",
    "\n",
    "    def fit(self, X, y=None):\n",
    "        return self\n",
    "\n",
    "    def transform(self, X):\n",
    "        return X.apply(lambda val: val.split(self.sep) if isinstance(val, str) else []).values.reshape(-1, 1)\n",
    "\n",
    "class MultiLabelBinarizerWrapper(BaseEstimator, TransformerMixin):\n",
    "    def __init__(self):\n",
    "        self.mlb = MultiLabelBinarizer()\n",
    "\n",
    "    def fit(self, X, y=None):\n",
    "        X_flat = [x[0] for x in X]\n",
    "        return self.mlb.fit(X_flat)\n",
    "\n",
    "    def transform(self, X):\n",
    "        X_flat = [x[0] for x in X]\n",
    "        return self.mlb.transform(X_flat)\n",
    "\n",
    "class CategoricalPipeline(BaseEstimator, TransformerMixin):\n",
    "    \"\"\"Pipeline para orgao_julgador e classe_processo com MLB\"\"\"\n",
    "    def fit(self, X, y=None):\n",
    "        self.to_list = StringToListTransformer(sep=';')\n",
    "        X_list = self.to_list.transform(X)\n",
    "        self.binarizer = MultiLabelBinarizerWrapper()\n",
    "        self.binarizer.fit(X_list)\n",
    "        return self\n",
    "\n",
    "    def transform(self, X):\n",
    "        X_list = self.to_list.transform(X)\n",
    "        return self.binarizer.transform(X_list)\n",
    "\n",
    "class AssuntosPipeline(BaseEstimator, TransformerMixin):\n",
    "    def fit(self, X, y=None):\n",
    "        self.splitter = StringToListTransformer(sep=';')\n",
    "        X_split = self.splitter.transform(X)\n",
    "        self.binarizer = MultiLabelBinarizerWrapper()\n",
    "        self.binarizer.fit(X_split)\n",
    "        return self\n",
    "\n",
    "    def transform(self, X):\n",
    "        X_split = self.splitter.transform(X)\n",
    "        return self.binarizer.transform(X_split)'''"
   ]
  },
  {
   "cell_type": "markdown",
   "metadata": {},
   "source": [
    "# 4. Pipeline Final"
   ]
  },
  {
   "cell_type": "code",
   "execution_count": 17,
   "metadata": {},
   "outputs": [],
   "source": [
    "from sklearn.pipeline import Pipeline\n",
    "from sklearn.svm import LinearSVC\n",
    "from sklearn.ensemble import StackingClassifier, RandomForestClassifier\n",
    "from sklearn.linear_model import LogisticRegression\n",
    "from sklearn.compose import ColumnTransformer\n",
    "\n",
    "# --- Pipelines individuais para os classificadores ---\n",
    "\n",
    "# 1. LinearSVC: teor_texto + assuntos\n",
    "svc_preprocessor = ColumnTransformer(transformers=[\n",
    "    ('texto', TfidfVectorizer(min_df=0.001, max_df=0.5, max_features=3500), 'teor_texto'),\n",
    "    ('assuntos', AssuntosPipeline(), 'assuntos')\n",
    "])\n",
    "svc_pipeline = Pipeline([\n",
    "    ('preprocessor', svc_preprocessor),\n",
    "    ('classifier', LinearSVC())\n",
    "])\n",
    "\n",
    "# 2. RandomForest: teor_texto + assuntos + classe_processo + orgao_julgador\n",
    "rf_preprocessor = ColumnTransformer(transformers=[\n",
    "    ('texto', TfidfVectorizer(min_df=0.001, max_df=0.5, max_features=3500), 'teor_texto'),\n",
    "    ('assuntos', AssuntosPipeline(), 'assuntos'),\n",
    "    ('classe', CategoricalPipeline(), 'classe_processo'),\n",
    "    ('orgao', CategoricalPipeline(), 'orgao_julgador')\n",
    "])\n",
    "rf_pipeline = Pipeline([\n",
    "    ('preprocessor', rf_preprocessor),\n",
    "    ('classifier', RandomForestClassifier())\n",
    "])\n",
    "\n",
    "# 3. LogisticRegression: assuntos + classe_processo + orgao_julgador\n",
    "lr_preprocessor = ColumnTransformer(transformers=[\n",
    "    ('assuntos', AssuntosPipeline(), 'assuntos'),\n",
    "    ('classe', CategoricalPipeline(), 'classe_processo'),\n",
    "    ('orgao', CategoricalPipeline(), 'orgao_julgador')\n",
    "])\n",
    "lr_pipeline = Pipeline([\n",
    "    ('preprocessor', lr_preprocessor),\n",
    "    ('classifier', LogisticRegression(max_iter=1000))\n",
    "])\n",
    "\n",
    "# --- StackingClassifier com todos os pipelines ---\n",
    "stacking_clf = StackingClassifier(\n",
    "    estimators=[\n",
    "        ('svc', svc_pipeline),\n",
    "        ('rf', rf_pipeline),\n",
    "        ('lr', lr_pipeline)\n",
    "    ],\n",
    "    final_estimator=LogisticRegression(max_iter=1000)\n",
    ")"
   ]
  },
  {
   "cell_type": "code",
   "execution_count": 20,
   "metadata": {},
   "outputs": [
    {
     "data": {
      "text/html": [
       "<style>#sk-container-id-1 {\n",
       "  /* Definition of color scheme common for light and dark mode */\n",
       "  --sklearn-color-text: #000;\n",
       "  --sklearn-color-text-muted: #666;\n",
       "  --sklearn-color-line: gray;\n",
       "  /* Definition of color scheme for unfitted estimators */\n",
       "  --sklearn-color-unfitted-level-0: #fff5e6;\n",
       "  --sklearn-color-unfitted-level-1: #f6e4d2;\n",
       "  --sklearn-color-unfitted-level-2: #ffe0b3;\n",
       "  --sklearn-color-unfitted-level-3: chocolate;\n",
       "  /* Definition of color scheme for fitted estimators */\n",
       "  --sklearn-color-fitted-level-0: #f0f8ff;\n",
       "  --sklearn-color-fitted-level-1: #d4ebff;\n",
       "  --sklearn-color-fitted-level-2: #b3dbfd;\n",
       "  --sklearn-color-fitted-level-3: cornflowerblue;\n",
       "\n",
       "  /* Specific color for light theme */\n",
       "  --sklearn-color-text-on-default-background: var(--sg-text-color, var(--theme-code-foreground, var(--jp-content-font-color1, black)));\n",
       "  --sklearn-color-background: var(--sg-background-color, var(--theme-background, var(--jp-layout-color0, white)));\n",
       "  --sklearn-color-border-box: var(--sg-text-color, var(--theme-code-foreground, var(--jp-content-font-color1, black)));\n",
       "  --sklearn-color-icon: #696969;\n",
       "\n",
       "  @media (prefers-color-scheme: dark) {\n",
       "    /* Redefinition of color scheme for dark theme */\n",
       "    --sklearn-color-text-on-default-background: var(--sg-text-color, var(--theme-code-foreground, var(--jp-content-font-color1, white)));\n",
       "    --sklearn-color-background: var(--sg-background-color, var(--theme-background, var(--jp-layout-color0, #111)));\n",
       "    --sklearn-color-border-box: var(--sg-text-color, var(--theme-code-foreground, var(--jp-content-font-color1, white)));\n",
       "    --sklearn-color-icon: #878787;\n",
       "  }\n",
       "}\n",
       "\n",
       "#sk-container-id-1 {\n",
       "  color: var(--sklearn-color-text);\n",
       "}\n",
       "\n",
       "#sk-container-id-1 pre {\n",
       "  padding: 0;\n",
       "}\n",
       "\n",
       "#sk-container-id-1 input.sk-hidden--visually {\n",
       "  border: 0;\n",
       "  clip: rect(1px 1px 1px 1px);\n",
       "  clip: rect(1px, 1px, 1px, 1px);\n",
       "  height: 1px;\n",
       "  margin: -1px;\n",
       "  overflow: hidden;\n",
       "  padding: 0;\n",
       "  position: absolute;\n",
       "  width: 1px;\n",
       "}\n",
       "\n",
       "#sk-container-id-1 div.sk-dashed-wrapped {\n",
       "  border: 1px dashed var(--sklearn-color-line);\n",
       "  margin: 0 0.4em 0.5em 0.4em;\n",
       "  box-sizing: border-box;\n",
       "  padding-bottom: 0.4em;\n",
       "  background-color: var(--sklearn-color-background);\n",
       "}\n",
       "\n",
       "#sk-container-id-1 div.sk-container {\n",
       "  /* jupyter's `normalize.less` sets `[hidden] { display: none; }`\n",
       "     but bootstrap.min.css set `[hidden] { display: none !important; }`\n",
       "     so we also need the `!important` here to be able to override the\n",
       "     default hidden behavior on the sphinx rendered scikit-learn.org.\n",
       "     See: https://github.com/scikit-learn/scikit-learn/issues/21755 */\n",
       "  display: inline-block !important;\n",
       "  position: relative;\n",
       "}\n",
       "\n",
       "#sk-container-id-1 div.sk-text-repr-fallback {\n",
       "  display: none;\n",
       "}\n",
       "\n",
       "div.sk-parallel-item,\n",
       "div.sk-serial,\n",
       "div.sk-item {\n",
       "  /* draw centered vertical line to link estimators */\n",
       "  background-image: linear-gradient(var(--sklearn-color-text-on-default-background), var(--sklearn-color-text-on-default-background));\n",
       "  background-size: 2px 100%;\n",
       "  background-repeat: no-repeat;\n",
       "  background-position: center center;\n",
       "}\n",
       "\n",
       "/* Parallel-specific style estimator block */\n",
       "\n",
       "#sk-container-id-1 div.sk-parallel-item::after {\n",
       "  content: \"\";\n",
       "  width: 100%;\n",
       "  border-bottom: 2px solid var(--sklearn-color-text-on-default-background);\n",
       "  flex-grow: 1;\n",
       "}\n",
       "\n",
       "#sk-container-id-1 div.sk-parallel {\n",
       "  display: flex;\n",
       "  align-items: stretch;\n",
       "  justify-content: center;\n",
       "  background-color: var(--sklearn-color-background);\n",
       "  position: relative;\n",
       "}\n",
       "\n",
       "#sk-container-id-1 div.sk-parallel-item {\n",
       "  display: flex;\n",
       "  flex-direction: column;\n",
       "}\n",
       "\n",
       "#sk-container-id-1 div.sk-parallel-item:first-child::after {\n",
       "  align-self: flex-end;\n",
       "  width: 50%;\n",
       "}\n",
       "\n",
       "#sk-container-id-1 div.sk-parallel-item:last-child::after {\n",
       "  align-self: flex-start;\n",
       "  width: 50%;\n",
       "}\n",
       "\n",
       "#sk-container-id-1 div.sk-parallel-item:only-child::after {\n",
       "  width: 0;\n",
       "}\n",
       "\n",
       "/* Serial-specific style estimator block */\n",
       "\n",
       "#sk-container-id-1 div.sk-serial {\n",
       "  display: flex;\n",
       "  flex-direction: column;\n",
       "  align-items: center;\n",
       "  background-color: var(--sklearn-color-background);\n",
       "  padding-right: 1em;\n",
       "  padding-left: 1em;\n",
       "}\n",
       "\n",
       "\n",
       "/* Toggleable style: style used for estimator/Pipeline/ColumnTransformer box that is\n",
       "clickable and can be expanded/collapsed.\n",
       "- Pipeline and ColumnTransformer use this feature and define the default style\n",
       "- Estimators will overwrite some part of the style using the `sk-estimator` class\n",
       "*/\n",
       "\n",
       "/* Pipeline and ColumnTransformer style (default) */\n",
       "\n",
       "#sk-container-id-1 div.sk-toggleable {\n",
       "  /* Default theme specific background. It is overwritten whether we have a\n",
       "  specific estimator or a Pipeline/ColumnTransformer */\n",
       "  background-color: var(--sklearn-color-background);\n",
       "}\n",
       "\n",
       "/* Toggleable label */\n",
       "#sk-container-id-1 label.sk-toggleable__label {\n",
       "  cursor: pointer;\n",
       "  display: flex;\n",
       "  width: 100%;\n",
       "  margin-bottom: 0;\n",
       "  padding: 0.5em;\n",
       "  box-sizing: border-box;\n",
       "  text-align: center;\n",
       "  align-items: start;\n",
       "  justify-content: space-between;\n",
       "  gap: 0.5em;\n",
       "}\n",
       "\n",
       "#sk-container-id-1 label.sk-toggleable__label .caption {\n",
       "  font-size: 0.6rem;\n",
       "  font-weight: lighter;\n",
       "  color: var(--sklearn-color-text-muted);\n",
       "}\n",
       "\n",
       "#sk-container-id-1 label.sk-toggleable__label-arrow:before {\n",
       "  /* Arrow on the left of the label */\n",
       "  content: \"▸\";\n",
       "  float: left;\n",
       "  margin-right: 0.25em;\n",
       "  color: var(--sklearn-color-icon);\n",
       "}\n",
       "\n",
       "#sk-container-id-1 label.sk-toggleable__label-arrow:hover:before {\n",
       "  color: var(--sklearn-color-text);\n",
       "}\n",
       "\n",
       "/* Toggleable content - dropdown */\n",
       "\n",
       "#sk-container-id-1 div.sk-toggleable__content {\n",
       "  max-height: 0;\n",
       "  max-width: 0;\n",
       "  overflow: hidden;\n",
       "  text-align: left;\n",
       "  /* unfitted */\n",
       "  background-color: var(--sklearn-color-unfitted-level-0);\n",
       "}\n",
       "\n",
       "#sk-container-id-1 div.sk-toggleable__content.fitted {\n",
       "  /* fitted */\n",
       "  background-color: var(--sklearn-color-fitted-level-0);\n",
       "}\n",
       "\n",
       "#sk-container-id-1 div.sk-toggleable__content pre {\n",
       "  margin: 0.2em;\n",
       "  border-radius: 0.25em;\n",
       "  color: var(--sklearn-color-text);\n",
       "  /* unfitted */\n",
       "  background-color: var(--sklearn-color-unfitted-level-0);\n",
       "}\n",
       "\n",
       "#sk-container-id-1 div.sk-toggleable__content.fitted pre {\n",
       "  /* unfitted */\n",
       "  background-color: var(--sklearn-color-fitted-level-0);\n",
       "}\n",
       "\n",
       "#sk-container-id-1 input.sk-toggleable__control:checked~div.sk-toggleable__content {\n",
       "  /* Expand drop-down */\n",
       "  max-height: 200px;\n",
       "  max-width: 100%;\n",
       "  overflow: auto;\n",
       "}\n",
       "\n",
       "#sk-container-id-1 input.sk-toggleable__control:checked~label.sk-toggleable__label-arrow:before {\n",
       "  content: \"▾\";\n",
       "}\n",
       "\n",
       "/* Pipeline/ColumnTransformer-specific style */\n",
       "\n",
       "#sk-container-id-1 div.sk-label input.sk-toggleable__control:checked~label.sk-toggleable__label {\n",
       "  color: var(--sklearn-color-text);\n",
       "  background-color: var(--sklearn-color-unfitted-level-2);\n",
       "}\n",
       "\n",
       "#sk-container-id-1 div.sk-label.fitted input.sk-toggleable__control:checked~label.sk-toggleable__label {\n",
       "  background-color: var(--sklearn-color-fitted-level-2);\n",
       "}\n",
       "\n",
       "/* Estimator-specific style */\n",
       "\n",
       "/* Colorize estimator box */\n",
       "#sk-container-id-1 div.sk-estimator input.sk-toggleable__control:checked~label.sk-toggleable__label {\n",
       "  /* unfitted */\n",
       "  background-color: var(--sklearn-color-unfitted-level-2);\n",
       "}\n",
       "\n",
       "#sk-container-id-1 div.sk-estimator.fitted input.sk-toggleable__control:checked~label.sk-toggleable__label {\n",
       "  /* fitted */\n",
       "  background-color: var(--sklearn-color-fitted-level-2);\n",
       "}\n",
       "\n",
       "#sk-container-id-1 div.sk-label label.sk-toggleable__label,\n",
       "#sk-container-id-1 div.sk-label label {\n",
       "  /* The background is the default theme color */\n",
       "  color: var(--sklearn-color-text-on-default-background);\n",
       "}\n",
       "\n",
       "/* On hover, darken the color of the background */\n",
       "#sk-container-id-1 div.sk-label:hover label.sk-toggleable__label {\n",
       "  color: var(--sklearn-color-text);\n",
       "  background-color: var(--sklearn-color-unfitted-level-2);\n",
       "}\n",
       "\n",
       "/* Label box, darken color on hover, fitted */\n",
       "#sk-container-id-1 div.sk-label.fitted:hover label.sk-toggleable__label.fitted {\n",
       "  color: var(--sklearn-color-text);\n",
       "  background-color: var(--sklearn-color-fitted-level-2);\n",
       "}\n",
       "\n",
       "/* Estimator label */\n",
       "\n",
       "#sk-container-id-1 div.sk-label label {\n",
       "  font-family: monospace;\n",
       "  font-weight: bold;\n",
       "  display: inline-block;\n",
       "  line-height: 1.2em;\n",
       "}\n",
       "\n",
       "#sk-container-id-1 div.sk-label-container {\n",
       "  text-align: center;\n",
       "}\n",
       "\n",
       "/* Estimator-specific */\n",
       "#sk-container-id-1 div.sk-estimator {\n",
       "  font-family: monospace;\n",
       "  border: 1px dotted var(--sklearn-color-border-box);\n",
       "  border-radius: 0.25em;\n",
       "  box-sizing: border-box;\n",
       "  margin-bottom: 0.5em;\n",
       "  /* unfitted */\n",
       "  background-color: var(--sklearn-color-unfitted-level-0);\n",
       "}\n",
       "\n",
       "#sk-container-id-1 div.sk-estimator.fitted {\n",
       "  /* fitted */\n",
       "  background-color: var(--sklearn-color-fitted-level-0);\n",
       "}\n",
       "\n",
       "/* on hover */\n",
       "#sk-container-id-1 div.sk-estimator:hover {\n",
       "  /* unfitted */\n",
       "  background-color: var(--sklearn-color-unfitted-level-2);\n",
       "}\n",
       "\n",
       "#sk-container-id-1 div.sk-estimator.fitted:hover {\n",
       "  /* fitted */\n",
       "  background-color: var(--sklearn-color-fitted-level-2);\n",
       "}\n",
       "\n",
       "/* Specification for estimator info (e.g. \"i\" and \"?\") */\n",
       "\n",
       "/* Common style for \"i\" and \"?\" */\n",
       "\n",
       ".sk-estimator-doc-link,\n",
       "a:link.sk-estimator-doc-link,\n",
       "a:visited.sk-estimator-doc-link {\n",
       "  float: right;\n",
       "  font-size: smaller;\n",
       "  line-height: 1em;\n",
       "  font-family: monospace;\n",
       "  background-color: var(--sklearn-color-background);\n",
       "  border-radius: 1em;\n",
       "  height: 1em;\n",
       "  width: 1em;\n",
       "  text-decoration: none !important;\n",
       "  margin-left: 0.5em;\n",
       "  text-align: center;\n",
       "  /* unfitted */\n",
       "  border: var(--sklearn-color-unfitted-level-1) 1pt solid;\n",
       "  color: var(--sklearn-color-unfitted-level-1);\n",
       "}\n",
       "\n",
       ".sk-estimator-doc-link.fitted,\n",
       "a:link.sk-estimator-doc-link.fitted,\n",
       "a:visited.sk-estimator-doc-link.fitted {\n",
       "  /* fitted */\n",
       "  border: var(--sklearn-color-fitted-level-1) 1pt solid;\n",
       "  color: var(--sklearn-color-fitted-level-1);\n",
       "}\n",
       "\n",
       "/* On hover */\n",
       "div.sk-estimator:hover .sk-estimator-doc-link:hover,\n",
       ".sk-estimator-doc-link:hover,\n",
       "div.sk-label-container:hover .sk-estimator-doc-link:hover,\n",
       ".sk-estimator-doc-link:hover {\n",
       "  /* unfitted */\n",
       "  background-color: var(--sklearn-color-unfitted-level-3);\n",
       "  color: var(--sklearn-color-background);\n",
       "  text-decoration: none;\n",
       "}\n",
       "\n",
       "div.sk-estimator.fitted:hover .sk-estimator-doc-link.fitted:hover,\n",
       ".sk-estimator-doc-link.fitted:hover,\n",
       "div.sk-label-container:hover .sk-estimator-doc-link.fitted:hover,\n",
       ".sk-estimator-doc-link.fitted:hover {\n",
       "  /* fitted */\n",
       "  background-color: var(--sklearn-color-fitted-level-3);\n",
       "  color: var(--sklearn-color-background);\n",
       "  text-decoration: none;\n",
       "}\n",
       "\n",
       "/* Span, style for the box shown on hovering the info icon */\n",
       ".sk-estimator-doc-link span {\n",
       "  display: none;\n",
       "  z-index: 9999;\n",
       "  position: relative;\n",
       "  font-weight: normal;\n",
       "  right: .2ex;\n",
       "  padding: .5ex;\n",
       "  margin: .5ex;\n",
       "  width: min-content;\n",
       "  min-width: 20ex;\n",
       "  max-width: 50ex;\n",
       "  color: var(--sklearn-color-text);\n",
       "  box-shadow: 2pt 2pt 4pt #999;\n",
       "  /* unfitted */\n",
       "  background: var(--sklearn-color-unfitted-level-0);\n",
       "  border: .5pt solid var(--sklearn-color-unfitted-level-3);\n",
       "}\n",
       "\n",
       ".sk-estimator-doc-link.fitted span {\n",
       "  /* fitted */\n",
       "  background: var(--sklearn-color-fitted-level-0);\n",
       "  border: var(--sklearn-color-fitted-level-3);\n",
       "}\n",
       "\n",
       ".sk-estimator-doc-link:hover span {\n",
       "  display: block;\n",
       "}\n",
       "\n",
       "/* \"?\"-specific style due to the `<a>` HTML tag */\n",
       "\n",
       "#sk-container-id-1 a.estimator_doc_link {\n",
       "  float: right;\n",
       "  font-size: 1rem;\n",
       "  line-height: 1em;\n",
       "  font-family: monospace;\n",
       "  background-color: var(--sklearn-color-background);\n",
       "  border-radius: 1rem;\n",
       "  height: 1rem;\n",
       "  width: 1rem;\n",
       "  text-decoration: none;\n",
       "  /* unfitted */\n",
       "  color: var(--sklearn-color-unfitted-level-1);\n",
       "  border: var(--sklearn-color-unfitted-level-1) 1pt solid;\n",
       "}\n",
       "\n",
       "#sk-container-id-1 a.estimator_doc_link.fitted {\n",
       "  /* fitted */\n",
       "  border: var(--sklearn-color-fitted-level-1) 1pt solid;\n",
       "  color: var(--sklearn-color-fitted-level-1);\n",
       "}\n",
       "\n",
       "/* On hover */\n",
       "#sk-container-id-1 a.estimator_doc_link:hover {\n",
       "  /* unfitted */\n",
       "  background-color: var(--sklearn-color-unfitted-level-3);\n",
       "  color: var(--sklearn-color-background);\n",
       "  text-decoration: none;\n",
       "}\n",
       "\n",
       "#sk-container-id-1 a.estimator_doc_link.fitted:hover {\n",
       "  /* fitted */\n",
       "  background-color: var(--sklearn-color-fitted-level-3);\n",
       "}\n",
       "</style><div id=\"sk-container-id-1\" class=\"sk-top-container\"><div class=\"sk-text-repr-fallback\"><pre>StackingClassifier(estimators=[(&#x27;svc&#x27;,\n",
       "                                Pipeline(steps=[(&#x27;preprocessor&#x27;,\n",
       "                                                 ColumnTransformer(transformers=[(&#x27;texto&#x27;,\n",
       "                                                                                  TfidfVectorizer(max_df=0.5,\n",
       "                                                                                                  max_features=3500,\n",
       "                                                                                                  min_df=0.001),\n",
       "                                                                                  &#x27;teor_texto&#x27;),\n",
       "                                                                                 (&#x27;assuntos&#x27;,\n",
       "                                                                                  AssuntosPipeline(),\n",
       "                                                                                  &#x27;assuntos&#x27;)])),\n",
       "                                                (&#x27;classifier&#x27;, LinearSVC())])),\n",
       "                               (&#x27;rf&#x27;,\n",
       "                                Pipeline(steps=[(&#x27;preprocessor&#x27;,\n",
       "                                                 ColumnTransformer(transformers=[(&#x27;texto&#x27;,\n",
       "                                                                                  TfidfVector...\n",
       "                                                (&#x27;classifier&#x27;,\n",
       "                                                 RandomForestClassifier())])),\n",
       "                               (&#x27;lr&#x27;,\n",
       "                                Pipeline(steps=[(&#x27;preprocessor&#x27;,\n",
       "                                                 ColumnTransformer(transformers=[(&#x27;assuntos&#x27;,\n",
       "                                                                                  AssuntosPipeline(),\n",
       "                                                                                  &#x27;assuntos&#x27;),\n",
       "                                                                                 (&#x27;classe&#x27;,\n",
       "                                                                                  CategoricalPipeline(),\n",
       "                                                                                  &#x27;classe_processo&#x27;),\n",
       "                                                                                 (&#x27;orgao&#x27;,\n",
       "                                                                                  CategoricalPipeline(),\n",
       "                                                                                  &#x27;orgao_julgador&#x27;)])),\n",
       "                                                (&#x27;classifier&#x27;,\n",
       "                                                 LogisticRegression(max_iter=1000))]))],\n",
       "                   final_estimator=LogisticRegression(max_iter=1000))</pre><b>In a Jupyter environment, please rerun this cell to show the HTML representation or trust the notebook. <br />On GitHub, the HTML representation is unable to render, please try loading this page with nbviewer.org.</b></div><div class=\"sk-container\" hidden><div class=\"sk-item sk-dashed-wrapped\"><div class=\"sk-label-container\"><div class=\"sk-label fitted sk-toggleable\"><input class=\"sk-toggleable__control sk-hidden--visually\" id=\"sk-estimator-id-1\" type=\"checkbox\" ><label for=\"sk-estimator-id-1\" class=\"sk-toggleable__label fitted sk-toggleable__label-arrow\"><div><div>StackingClassifier</div></div><div><a class=\"sk-estimator-doc-link fitted\" rel=\"noreferrer\" target=\"_blank\" href=\"https://scikit-learn.org/1.6/modules/generated/sklearn.ensemble.StackingClassifier.html\">?<span>Documentation for StackingClassifier</span></a><span class=\"sk-estimator-doc-link fitted\">i<span>Fitted</span></span></div></label><div class=\"sk-toggleable__content fitted\"><pre>StackingClassifier(estimators=[(&#x27;svc&#x27;,\n",
       "                                Pipeline(steps=[(&#x27;preprocessor&#x27;,\n",
       "                                                 ColumnTransformer(transformers=[(&#x27;texto&#x27;,\n",
       "                                                                                  TfidfVectorizer(max_df=0.5,\n",
       "                                                                                                  max_features=3500,\n",
       "                                                                                                  min_df=0.001),\n",
       "                                                                                  &#x27;teor_texto&#x27;),\n",
       "                                                                                 (&#x27;assuntos&#x27;,\n",
       "                                                                                  AssuntosPipeline(),\n",
       "                                                                                  &#x27;assuntos&#x27;)])),\n",
       "                                                (&#x27;classifier&#x27;, LinearSVC())])),\n",
       "                               (&#x27;rf&#x27;,\n",
       "                                Pipeline(steps=[(&#x27;preprocessor&#x27;,\n",
       "                                                 ColumnTransformer(transformers=[(&#x27;texto&#x27;,\n",
       "                                                                                  TfidfVector...\n",
       "                                                (&#x27;classifier&#x27;,\n",
       "                                                 RandomForestClassifier())])),\n",
       "                               (&#x27;lr&#x27;,\n",
       "                                Pipeline(steps=[(&#x27;preprocessor&#x27;,\n",
       "                                                 ColumnTransformer(transformers=[(&#x27;assuntos&#x27;,\n",
       "                                                                                  AssuntosPipeline(),\n",
       "                                                                                  &#x27;assuntos&#x27;),\n",
       "                                                                                 (&#x27;classe&#x27;,\n",
       "                                                                                  CategoricalPipeline(),\n",
       "                                                                                  &#x27;classe_processo&#x27;),\n",
       "                                                                                 (&#x27;orgao&#x27;,\n",
       "                                                                                  CategoricalPipeline(),\n",
       "                                                                                  &#x27;orgao_julgador&#x27;)])),\n",
       "                                                (&#x27;classifier&#x27;,\n",
       "                                                 LogisticRegression(max_iter=1000))]))],\n",
       "                   final_estimator=LogisticRegression(max_iter=1000))</pre></div> </div></div><div class=\"sk-serial\"><div class=\"sk-item\"><div class=\"sk-parallel\"><div class=\"sk-parallel-item\"><div class=\"sk-item\"><div class=\"sk-label-container\"><div class=\"sk-label fitted sk-toggleable\"><label>svc</label></div></div><div class=\"sk-serial\"><div class=\"sk-item\"><div class=\"sk-serial\"><div class=\"sk-item sk-dashed-wrapped\"><div class=\"sk-label-container\"><div class=\"sk-label fitted sk-toggleable\"><input class=\"sk-toggleable__control sk-hidden--visually\" id=\"sk-estimator-id-2\" type=\"checkbox\" ><label for=\"sk-estimator-id-2\" class=\"sk-toggleable__label fitted sk-toggleable__label-arrow\"><div><div>preprocessor: ColumnTransformer</div></div><div><a class=\"sk-estimator-doc-link fitted\" rel=\"noreferrer\" target=\"_blank\" href=\"https://scikit-learn.org/1.6/modules/generated/sklearn.compose.ColumnTransformer.html\">?<span>Documentation for preprocessor: ColumnTransformer</span></a></div></label><div class=\"sk-toggleable__content fitted\"><pre>ColumnTransformer(transformers=[(&#x27;texto&#x27;,\n",
       "                                 TfidfVectorizer(max_df=0.5, max_features=3500,\n",
       "                                                 min_df=0.001),\n",
       "                                 &#x27;teor_texto&#x27;),\n",
       "                                (&#x27;assuntos&#x27;, AssuntosPipeline(), &#x27;assuntos&#x27;)])</pre></div> </div></div><div class=\"sk-parallel\"><div class=\"sk-parallel-item\"><div class=\"sk-item\"><div class=\"sk-label-container\"><div class=\"sk-label fitted sk-toggleable\"><input class=\"sk-toggleable__control sk-hidden--visually\" id=\"sk-estimator-id-3\" type=\"checkbox\" ><label for=\"sk-estimator-id-3\" class=\"sk-toggleable__label fitted sk-toggleable__label-arrow\"><div><div>texto</div></div></label><div class=\"sk-toggleable__content fitted\"><pre>teor_texto</pre></div> </div></div><div class=\"sk-serial\"><div class=\"sk-item\"><div class=\"sk-estimator fitted sk-toggleable\"><input class=\"sk-toggleable__control sk-hidden--visually\" id=\"sk-estimator-id-4\" type=\"checkbox\" ><label for=\"sk-estimator-id-4\" class=\"sk-toggleable__label fitted sk-toggleable__label-arrow\"><div><div>TfidfVectorizer</div></div><div><a class=\"sk-estimator-doc-link fitted\" rel=\"noreferrer\" target=\"_blank\" href=\"https://scikit-learn.org/1.6/modules/generated/sklearn.feature_extraction.text.TfidfVectorizer.html\">?<span>Documentation for TfidfVectorizer</span></a></div></label><div class=\"sk-toggleable__content fitted\"><pre>TfidfVectorizer(max_df=0.5, max_features=3500, min_df=0.001)</pre></div> </div></div></div></div></div><div class=\"sk-parallel-item\"><div class=\"sk-item\"><div class=\"sk-label-container\"><div class=\"sk-label fitted sk-toggleable\"><input class=\"sk-toggleable__control sk-hidden--visually\" id=\"sk-estimator-id-5\" type=\"checkbox\" ><label for=\"sk-estimator-id-5\" class=\"sk-toggleable__label fitted sk-toggleable__label-arrow\"><div><div>assuntos</div></div></label><div class=\"sk-toggleable__content fitted\"><pre>assuntos</pre></div> </div></div><div class=\"sk-serial\"><div class=\"sk-item\"><div class=\"sk-estimator fitted sk-toggleable\"><input class=\"sk-toggleable__control sk-hidden--visually\" id=\"sk-estimator-id-6\" type=\"checkbox\" ><label for=\"sk-estimator-id-6\" class=\"sk-toggleable__label fitted sk-toggleable__label-arrow\"><div><div>AssuntosPipeline</div></div></label><div class=\"sk-toggleable__content fitted\"><pre>AssuntosPipeline()</pre></div> </div></div></div></div></div></div></div><div class=\"sk-item\"><div class=\"sk-estimator fitted sk-toggleable\"><input class=\"sk-toggleable__control sk-hidden--visually\" id=\"sk-estimator-id-7\" type=\"checkbox\" ><label for=\"sk-estimator-id-7\" class=\"sk-toggleable__label fitted sk-toggleable__label-arrow\"><div><div>LinearSVC</div></div><div><a class=\"sk-estimator-doc-link fitted\" rel=\"noreferrer\" target=\"_blank\" href=\"https://scikit-learn.org/1.6/modules/generated/sklearn.svm.LinearSVC.html\">?<span>Documentation for LinearSVC</span></a></div></label><div class=\"sk-toggleable__content fitted\"><pre>LinearSVC()</pre></div> </div></div></div></div></div></div></div><div class=\"sk-parallel-item\"><div class=\"sk-item\"><div class=\"sk-label-container\"><div class=\"sk-label fitted sk-toggleable\"><label>rf</label></div></div><div class=\"sk-serial\"><div class=\"sk-item\"><div class=\"sk-serial\"><div class=\"sk-item sk-dashed-wrapped\"><div class=\"sk-label-container\"><div class=\"sk-label fitted sk-toggleable\"><input class=\"sk-toggleable__control sk-hidden--visually\" id=\"sk-estimator-id-8\" type=\"checkbox\" ><label for=\"sk-estimator-id-8\" class=\"sk-toggleable__label fitted sk-toggleable__label-arrow\"><div><div>preprocessor: ColumnTransformer</div></div><div><a class=\"sk-estimator-doc-link fitted\" rel=\"noreferrer\" target=\"_blank\" href=\"https://scikit-learn.org/1.6/modules/generated/sklearn.compose.ColumnTransformer.html\">?<span>Documentation for preprocessor: ColumnTransformer</span></a></div></label><div class=\"sk-toggleable__content fitted\"><pre>ColumnTransformer(transformers=[(&#x27;texto&#x27;,\n",
       "                                 TfidfVectorizer(max_df=0.5, max_features=3500,\n",
       "                                                 min_df=0.001),\n",
       "                                 &#x27;teor_texto&#x27;),\n",
       "                                (&#x27;assuntos&#x27;, AssuntosPipeline(), &#x27;assuntos&#x27;),\n",
       "                                (&#x27;classe&#x27;, CategoricalPipeline(),\n",
       "                                 &#x27;classe_processo&#x27;),\n",
       "                                (&#x27;orgao&#x27;, CategoricalPipeline(),\n",
       "                                 &#x27;orgao_julgador&#x27;)])</pre></div> </div></div><div class=\"sk-parallel\"><div class=\"sk-parallel-item\"><div class=\"sk-item\"><div class=\"sk-label-container\"><div class=\"sk-label fitted sk-toggleable\"><input class=\"sk-toggleable__control sk-hidden--visually\" id=\"sk-estimator-id-9\" type=\"checkbox\" ><label for=\"sk-estimator-id-9\" class=\"sk-toggleable__label fitted sk-toggleable__label-arrow\"><div><div>texto</div></div></label><div class=\"sk-toggleable__content fitted\"><pre>teor_texto</pre></div> </div></div><div class=\"sk-serial\"><div class=\"sk-item\"><div class=\"sk-estimator fitted sk-toggleable\"><input class=\"sk-toggleable__control sk-hidden--visually\" id=\"sk-estimator-id-10\" type=\"checkbox\" ><label for=\"sk-estimator-id-10\" class=\"sk-toggleable__label fitted sk-toggleable__label-arrow\"><div><div>TfidfVectorizer</div></div><div><a class=\"sk-estimator-doc-link fitted\" rel=\"noreferrer\" target=\"_blank\" href=\"https://scikit-learn.org/1.6/modules/generated/sklearn.feature_extraction.text.TfidfVectorizer.html\">?<span>Documentation for TfidfVectorizer</span></a></div></label><div class=\"sk-toggleable__content fitted\"><pre>TfidfVectorizer(max_df=0.5, max_features=3500, min_df=0.001)</pre></div> </div></div></div></div></div><div class=\"sk-parallel-item\"><div class=\"sk-item\"><div class=\"sk-label-container\"><div class=\"sk-label fitted sk-toggleable\"><input class=\"sk-toggleable__control sk-hidden--visually\" id=\"sk-estimator-id-11\" type=\"checkbox\" ><label for=\"sk-estimator-id-11\" class=\"sk-toggleable__label fitted sk-toggleable__label-arrow\"><div><div>assuntos</div></div></label><div class=\"sk-toggleable__content fitted\"><pre>assuntos</pre></div> </div></div><div class=\"sk-serial\"><div class=\"sk-item\"><div class=\"sk-estimator fitted sk-toggleable\"><input class=\"sk-toggleable__control sk-hidden--visually\" id=\"sk-estimator-id-12\" type=\"checkbox\" ><label for=\"sk-estimator-id-12\" class=\"sk-toggleable__label fitted sk-toggleable__label-arrow\"><div><div>AssuntosPipeline</div></div></label><div class=\"sk-toggleable__content fitted\"><pre>AssuntosPipeline()</pre></div> </div></div></div></div></div><div class=\"sk-parallel-item\"><div class=\"sk-item\"><div class=\"sk-label-container\"><div class=\"sk-label fitted sk-toggleable\"><input class=\"sk-toggleable__control sk-hidden--visually\" id=\"sk-estimator-id-13\" type=\"checkbox\" ><label for=\"sk-estimator-id-13\" class=\"sk-toggleable__label fitted sk-toggleable__label-arrow\"><div><div>classe</div></div></label><div class=\"sk-toggleable__content fitted\"><pre>classe_processo</pre></div> </div></div><div class=\"sk-serial\"><div class=\"sk-item\"><div class=\"sk-estimator fitted sk-toggleable\"><input class=\"sk-toggleable__control sk-hidden--visually\" id=\"sk-estimator-id-14\" type=\"checkbox\" ><label for=\"sk-estimator-id-14\" class=\"sk-toggleable__label fitted sk-toggleable__label-arrow\"><div><div>CategoricalPipeline</div></div></label><div class=\"sk-toggleable__content fitted\"><pre>CategoricalPipeline()</pre></div> </div></div></div></div></div><div class=\"sk-parallel-item\"><div class=\"sk-item\"><div class=\"sk-label-container\"><div class=\"sk-label fitted sk-toggleable\"><input class=\"sk-toggleable__control sk-hidden--visually\" id=\"sk-estimator-id-15\" type=\"checkbox\" ><label for=\"sk-estimator-id-15\" class=\"sk-toggleable__label fitted sk-toggleable__label-arrow\"><div><div>orgao</div></div></label><div class=\"sk-toggleable__content fitted\"><pre>orgao_julgador</pre></div> </div></div><div class=\"sk-serial\"><div class=\"sk-item\"><div class=\"sk-estimator fitted sk-toggleable\"><input class=\"sk-toggleable__control sk-hidden--visually\" id=\"sk-estimator-id-16\" type=\"checkbox\" ><label for=\"sk-estimator-id-16\" class=\"sk-toggleable__label fitted sk-toggleable__label-arrow\"><div><div>CategoricalPipeline</div></div></label><div class=\"sk-toggleable__content fitted\"><pre>CategoricalPipeline()</pre></div> </div></div></div></div></div></div></div><div class=\"sk-item\"><div class=\"sk-estimator fitted sk-toggleable\"><input class=\"sk-toggleable__control sk-hidden--visually\" id=\"sk-estimator-id-17\" type=\"checkbox\" ><label for=\"sk-estimator-id-17\" class=\"sk-toggleable__label fitted sk-toggleable__label-arrow\"><div><div>RandomForestClassifier</div></div><div><a class=\"sk-estimator-doc-link fitted\" rel=\"noreferrer\" target=\"_blank\" href=\"https://scikit-learn.org/1.6/modules/generated/sklearn.ensemble.RandomForestClassifier.html\">?<span>Documentation for RandomForestClassifier</span></a></div></label><div class=\"sk-toggleable__content fitted\"><pre>RandomForestClassifier()</pre></div> </div></div></div></div></div></div></div><div class=\"sk-parallel-item\"><div class=\"sk-item\"><div class=\"sk-label-container\"><div class=\"sk-label fitted sk-toggleable\"><label>lr</label></div></div><div class=\"sk-serial\"><div class=\"sk-item\"><div class=\"sk-serial\"><div class=\"sk-item sk-dashed-wrapped\"><div class=\"sk-label-container\"><div class=\"sk-label fitted sk-toggleable\"><input class=\"sk-toggleable__control sk-hidden--visually\" id=\"sk-estimator-id-18\" type=\"checkbox\" ><label for=\"sk-estimator-id-18\" class=\"sk-toggleable__label fitted sk-toggleable__label-arrow\"><div><div>preprocessor: ColumnTransformer</div></div><div><a class=\"sk-estimator-doc-link fitted\" rel=\"noreferrer\" target=\"_blank\" href=\"https://scikit-learn.org/1.6/modules/generated/sklearn.compose.ColumnTransformer.html\">?<span>Documentation for preprocessor: ColumnTransformer</span></a></div></label><div class=\"sk-toggleable__content fitted\"><pre>ColumnTransformer(transformers=[(&#x27;assuntos&#x27;, AssuntosPipeline(), &#x27;assuntos&#x27;),\n",
       "                                (&#x27;classe&#x27;, CategoricalPipeline(),\n",
       "                                 &#x27;classe_processo&#x27;),\n",
       "                                (&#x27;orgao&#x27;, CategoricalPipeline(),\n",
       "                                 &#x27;orgao_julgador&#x27;)])</pre></div> </div></div><div class=\"sk-parallel\"><div class=\"sk-parallel-item\"><div class=\"sk-item\"><div class=\"sk-label-container\"><div class=\"sk-label fitted sk-toggleable\"><input class=\"sk-toggleable__control sk-hidden--visually\" id=\"sk-estimator-id-19\" type=\"checkbox\" ><label for=\"sk-estimator-id-19\" class=\"sk-toggleable__label fitted sk-toggleable__label-arrow\"><div><div>assuntos</div></div></label><div class=\"sk-toggleable__content fitted\"><pre>assuntos</pre></div> </div></div><div class=\"sk-serial\"><div class=\"sk-item\"><div class=\"sk-estimator fitted sk-toggleable\"><input class=\"sk-toggleable__control sk-hidden--visually\" id=\"sk-estimator-id-20\" type=\"checkbox\" ><label for=\"sk-estimator-id-20\" class=\"sk-toggleable__label fitted sk-toggleable__label-arrow\"><div><div>AssuntosPipeline</div></div></label><div class=\"sk-toggleable__content fitted\"><pre>AssuntosPipeline()</pre></div> </div></div></div></div></div><div class=\"sk-parallel-item\"><div class=\"sk-item\"><div class=\"sk-label-container\"><div class=\"sk-label fitted sk-toggleable\"><input class=\"sk-toggleable__control sk-hidden--visually\" id=\"sk-estimator-id-21\" type=\"checkbox\" ><label for=\"sk-estimator-id-21\" class=\"sk-toggleable__label fitted sk-toggleable__label-arrow\"><div><div>classe</div></div></label><div class=\"sk-toggleable__content fitted\"><pre>classe_processo</pre></div> </div></div><div class=\"sk-serial\"><div class=\"sk-item\"><div class=\"sk-estimator fitted sk-toggleable\"><input class=\"sk-toggleable__control sk-hidden--visually\" id=\"sk-estimator-id-22\" type=\"checkbox\" ><label for=\"sk-estimator-id-22\" class=\"sk-toggleable__label fitted sk-toggleable__label-arrow\"><div><div>CategoricalPipeline</div></div></label><div class=\"sk-toggleable__content fitted\"><pre>CategoricalPipeline()</pre></div> </div></div></div></div></div><div class=\"sk-parallel-item\"><div class=\"sk-item\"><div class=\"sk-label-container\"><div class=\"sk-label fitted sk-toggleable\"><input class=\"sk-toggleable__control sk-hidden--visually\" id=\"sk-estimator-id-23\" type=\"checkbox\" ><label for=\"sk-estimator-id-23\" class=\"sk-toggleable__label fitted sk-toggleable__label-arrow\"><div><div>orgao</div></div></label><div class=\"sk-toggleable__content fitted\"><pre>orgao_julgador</pre></div> </div></div><div class=\"sk-serial\"><div class=\"sk-item\"><div class=\"sk-estimator fitted sk-toggleable\"><input class=\"sk-toggleable__control sk-hidden--visually\" id=\"sk-estimator-id-24\" type=\"checkbox\" ><label for=\"sk-estimator-id-24\" class=\"sk-toggleable__label fitted sk-toggleable__label-arrow\"><div><div>CategoricalPipeline</div></div></label><div class=\"sk-toggleable__content fitted\"><pre>CategoricalPipeline()</pre></div> </div></div></div></div></div></div></div><div class=\"sk-item\"><div class=\"sk-estimator fitted sk-toggleable\"><input class=\"sk-toggleable__control sk-hidden--visually\" id=\"sk-estimator-id-25\" type=\"checkbox\" ><label for=\"sk-estimator-id-25\" class=\"sk-toggleable__label fitted sk-toggleable__label-arrow\"><div><div>LogisticRegression</div></div><div><a class=\"sk-estimator-doc-link fitted\" rel=\"noreferrer\" target=\"_blank\" href=\"https://scikit-learn.org/1.6/modules/generated/sklearn.linear_model.LogisticRegression.html\">?<span>Documentation for LogisticRegression</span></a></div></label><div class=\"sk-toggleable__content fitted\"><pre>LogisticRegression(max_iter=1000)</pre></div> </div></div></div></div></div></div></div></div></div><div class=\"sk-item\"><div class=\"sk-parallel\"><div class=\"sk-parallel-item\"><div class=\"sk-item\"><div class=\"sk-label-container\"><div class=\"sk-label fitted sk-toggleable\"><label>final_estimator</label></div></div><div class=\"sk-serial\"><div class=\"sk-item\"><div class=\"sk-estimator fitted sk-toggleable\"><input class=\"sk-toggleable__control sk-hidden--visually\" id=\"sk-estimator-id-26\" type=\"checkbox\" ><label for=\"sk-estimator-id-26\" class=\"sk-toggleable__label fitted sk-toggleable__label-arrow\"><div><div>LogisticRegression</div></div><div><a class=\"sk-estimator-doc-link fitted\" rel=\"noreferrer\" target=\"_blank\" href=\"https://scikit-learn.org/1.6/modules/generated/sklearn.linear_model.LogisticRegression.html\">?<span>Documentation for LogisticRegression</span></a></div></label><div class=\"sk-toggleable__content fitted\"><pre>LogisticRegression(max_iter=1000)</pre></div> </div></div></div></div></div></div></div></div></div></div></div>"
      ],
      "text/plain": [
       "StackingClassifier(estimators=[('svc',\n",
       "                                Pipeline(steps=[('preprocessor',\n",
       "                                                 ColumnTransformer(transformers=[('texto',\n",
       "                                                                                  TfidfVectorizer(max_df=0.5,\n",
       "                                                                                                  max_features=3500,\n",
       "                                                                                                  min_df=0.001),\n",
       "                                                                                  'teor_texto'),\n",
       "                                                                                 ('assuntos',\n",
       "                                                                                  AssuntosPipeline(),\n",
       "                                                                                  'assuntos')])),\n",
       "                                                ('classifier', LinearSVC())])),\n",
       "                               ('rf',\n",
       "                                Pipeline(steps=[('preprocessor',\n",
       "                                                 ColumnTransformer(transformers=[('texto',\n",
       "                                                                                  TfidfVector...\n",
       "                                                ('classifier',\n",
       "                                                 RandomForestClassifier())])),\n",
       "                               ('lr',\n",
       "                                Pipeline(steps=[('preprocessor',\n",
       "                                                 ColumnTransformer(transformers=[('assuntos',\n",
       "                                                                                  AssuntosPipeline(),\n",
       "                                                                                  'assuntos'),\n",
       "                                                                                 ('classe',\n",
       "                                                                                  CategoricalPipeline(),\n",
       "                                                                                  'classe_processo'),\n",
       "                                                                                 ('orgao',\n",
       "                                                                                  CategoricalPipeline(),\n",
       "                                                                                  'orgao_julgador')])),\n",
       "                                                ('classifier',\n",
       "                                                 LogisticRegression(max_iter=1000))]))],\n",
       "                   final_estimator=LogisticRegression(max_iter=1000))"
      ]
     },
     "execution_count": 20,
     "metadata": {},
     "output_type": "execute_result"
    }
   ],
   "source": [
    "stacking_clf.fit(X_train_balanced, y_train_balanced)"
   ]
  },
  {
   "cell_type": "code",
   "execution_count": 21,
   "metadata": {},
   "outputs": [
    {
     "data": {
      "text/plain": [
       "0.9391494002181026"
      ]
     },
     "execution_count": 21,
     "metadata": {},
     "output_type": "execute_result"
    }
   ],
   "source": [
    "stacking_clf.score(X_test, y_test)"
   ]
  },
  {
   "cell_type": "code",
   "execution_count": 22,
   "metadata": {},
   "outputs": [
    {
     "data": {
      "text/plain": [
       "array([[1521,   21,   13,   62,    2,    1,    1],\n",
       "       [   6,  392,    2,    1,    0,    0,    0],\n",
       "       [  28,    5, 1950,   20,    2,    1,    0],\n",
       "       [  38,    1,    1,  284,    6,    6,    5],\n",
       "       [   3,    1,    3,   17,   21,    2,    0],\n",
       "       [   3,    1,    0,   15,    0,   17,    0],\n",
       "       [   2,    0,    0,   10,    0,    0,  121]])"
      ]
     },
     "execution_count": 22,
     "metadata": {},
     "output_type": "execute_result"
    }
   ],
   "source": [
    "from sklearn.metrics import confusion_matrix, classification_report\n",
    "\n",
    "confusion_matrix(y_test, stacking_clf.predict(X_test))"
   ]
  },
  {
   "cell_type": "code",
   "execution_count": 23,
   "metadata": {},
   "outputs": [
    {
     "name": "stdout",
     "output_type": "stream",
     "text": [
      "                precision    recall  f1-score   support\n",
      "\n",
      "Administrativa       0.95      0.94      0.94      1621\n",
      " Contabilidade       0.93      0.98      0.95       401\n",
      "        Fiscal       0.99      0.97      0.98      2006\n",
      "      Judicial       0.69      0.83      0.76       341\n",
      " Meio Ambiente       0.68      0.45      0.54        47\n",
      "   Patrimonial       0.63      0.47      0.54        36\n",
      "         Saúde       0.95      0.91      0.93       133\n",
      "\n",
      "      accuracy                           0.94      4585\n",
      "     macro avg       0.83      0.79      0.81      4585\n",
      "  weighted avg       0.94      0.94      0.94      4585\n",
      "\n"
     ]
    }
   ],
   "source": [
    "print(classification_report(y_test, stacking_clf.predict(X_test)))"
   ]
  },
  {
   "cell_type": "markdown",
   "metadata": {},
   "source": [
    "# 5. Salvando o modelo"
   ]
  },
  {
   "cell_type": "code",
   "execution_count": 24,
   "metadata": {},
   "outputs": [
    {
     "data": {
      "text/plain": [
       "['/home/esdras-daniel/Documentos/Python/Django/PGM-Text_Classificator/api/models_clf/stacking_clf_V2.pkl']"
      ]
     },
     "execution_count": 24,
     "metadata": {},
     "output_type": "execute_result"
    }
   ],
   "source": [
    "import os\n",
    "import pickle\n",
    "import joblib\n",
    "\n",
    "models_path = '/home/esdras-daniel/Documentos/Python/Django/PGM-Text_Classificator/api/models_clf'\n",
    "\n",
    "model_name = 'stacking_clf_V2.pkl'\n",
    "joblib.dump(stacking_clf, os.path.join(models_path, model_name))"
   ]
  },
  {
   "cell_type": "markdown",
   "metadata": {},
   "source": [
    "# 6. Usando BERT para classificação de textos"
   ]
  },
  {
   "cell_type": "code",
   "execution_count": 6,
   "metadata": {},
   "outputs": [
    {
     "name": "stderr",
     "output_type": "stream",
     "text": [
      "Some weights of BertModel were not initialized from the model checkpoint at rufimelo/Legal-BERTimbau-base and are newly initialized: ['pooler.dense.bias', 'pooler.dense.weight']\n",
      "You should probably TRAIN this model on a down-stream task to be able to use it for predictions and inference.\n"
     ]
    }
   ],
   "source": [
    "from transformers import AutoTokenizer, AutoModel\n",
    "import torch\n",
    "import torch.nn as nn\n",
    "from torch.utils.data import Dataset, DataLoader\n",
    "from torch.nn.functional import softmax\n",
    "from sklearn.preprocessing import LabelEncoder\n",
    "from tqdm import tqdm\n",
    "\n",
    "MAX_LEN = 512\n",
    "STRIDE = 64\n",
    "POOLING = 'mean' # ou 'max'\n",
    "BATCH_SIZE = 16\n",
    "EPOCHS = 500\n",
    "DEVICE = torch.device('cuda' if torch.cuda.is_available() else 'cpu')\n",
    "BERT_MODEL = 'rufimelo/Legal-BERTimbau-base'\n",
    "\n",
    "tokenizer = AutoTokenizer.from_pretrained(BERT_MODEL)\n",
    "model = AutoModel.from_pretrained(BERT_MODEL).to(DEVICE)"
   ]
  },
  {
   "cell_type": "markdown",
   "metadata": {},
   "source": [
    "## 6.1 - Extraindo as embeddings"
   ]
  },
  {
   "cell_type": "code",
   "execution_count": null,
   "metadata": {},
   "outputs": [
    {
     "name": "stderr",
     "output_type": "stream",
     "text": [
      "Extraindo Embeddings: 100%|██████████| 15283/15283 [5:43:02<00:00,  1.35s/it]  \n"
     ]
    }
   ],
   "source": [
    "        \n",
    "\n",
    "# EXTRAIR TODOS OS EMBEDDINGS\n",
    "all_embeddings = []\n",
    "for text in tqdm(df['teor_texto'], desc=\"Extraindo Embeddings\"):\n",
    "    embedding = get_embedding(text, pooling=POOLING)\n",
    "    all_embeddings.append(embedding)\n"
   ]
  },
  {
   "cell_type": "code",
   "execution_count": 14,
   "metadata": {},
   "outputs": [],
   "source": [
    "#save_dir = '/home/esdras-daniel/Documentos/Python/Django/PGM-Text_Classificator/notebooks/embeddings'\n",
    "\n",
    "# CONVERTER PARA TENSOR\n",
    "#embeddings_tensor = torch.stack(all_embeddings)\n",
    "#torch.save(embeddings_tensor, os.path.join(save_dir, f'embeddings_{POOLING}.pt'))\n",
    "\n",
    "# SALVAR RÓTULOS ENCODADOS\n",
    "from sklearn.preprocessing import LabelEncoder\n",
    "le = LabelEncoder()\n",
    "labels_encoded = le.fit_transform(df['setor_destino'])\n",
    "#torch.save(torch.tensor(labels_encoded), os.path.join(save_dir, f'labels.pt'))"
   ]
  },
  {
   "cell_type": "code",
   "execution_count": 52,
   "metadata": {},
   "outputs": [
    {
     "data": {
      "text/plain": [
       "array(['Administrativa', 'Contabilidade', 'Fiscal', 'Judicial',\n",
       "       'Meio Ambiente', 'Patrimonial', 'Saúde'], dtype=object)"
      ]
     },
     "execution_count": 52,
     "metadata": {},
     "output_type": "execute_result"
    }
   ],
   "source": [
    "le.classes_"
   ]
  },
  {
   "cell_type": "markdown",
   "metadata": {},
   "source": [
    "## 6.2 - Criando o DataSet e Classificador"
   ]
  },
  {
   "cell_type": "code",
   "execution_count": 8,
   "metadata": {},
   "outputs": [],
   "source": [
    "class EmbeddingsDataset(Dataset):\n",
    "    def __init__(self, embedding, labels):\n",
    "        self.embeddings = embedding\n",
    "        self.labels = labels\n",
    "    \n",
    "    def __len__(self):\n",
    "        return len(self.embeddings)\n",
    "    \n",
    "    def __getitem__(self, idx):\n",
    "        return self.embeddings[idx], self.labels[idx]\n",
    "\n",
    "#  --------- CLASSIFICADOR ---------\n",
    "\n",
    "class BERTClassifier(nn.Module):\n",
    "    def __init__(self, input_dim=768, num_classes=7):\n",
    "        super().__init__()\n",
    "        self.linear = nn.Linear(input_dim, num_classes)\n",
    "    \n",
    "    def forward(self, x):\n",
    "        return self.linear(x)"
   ]
  },
  {
   "cell_type": "markdown",
   "metadata": {},
   "source": [
    "## 6.3 - Separação entre Treino e Teste"
   ]
  },
  {
   "cell_type": "code",
   "execution_count": 9,
   "metadata": {},
   "outputs": [],
   "source": [
    "load_dir = '/home/esdras-daniel/Documentos/Python/Django/PGM-Text_Classificator/notebooks/embeddings'\n",
    "embeddings_file_name = 'embeddings_mean.pt'\n",
    "\n",
    "X = torch.load(os.path.join(load_dir, embeddings_file_name))\n",
    "y = torch.load(os.path.join(load_dir, 'labels.pt'))"
   ]
  },
  {
   "cell_type": "code",
   "execution_count": 10,
   "metadata": {},
   "outputs": [],
   "source": [
    "from sklearn.model_selection import train_test_split\n",
    "from sklearn.utils.class_weight import compute_class_weight\n",
    "\n",
    "X_train, X_test, y_train, y_test = train_test_split(X, y, test_size=0.30, stratify=y, random_state=42)\n",
    "\n",
    "# Calculando os pesos das classes (Usando apenas o conjunto de treinamento)\n",
    "class_weights = compute_class_weight(class_weight='balanced', classes=np.unique(y_train), y=y_train.numpy())\n",
    "class_weights_tensor = torch.tensor(class_weights, dtype=torch.float).to(DEVICE)"
   ]
  },
  {
   "cell_type": "code",
   "execution_count": 11,
   "metadata": {},
   "outputs": [],
   "source": [
    "train_dataset = EmbeddingsDataset(X_train, y_train)\n",
    "test_dataset = EmbeddingsDataset(X_test, y_test)\n",
    "\n",
    "train_loader = DataLoader(train_dataset, batch_size=BATCH_SIZE)\n",
    "test_loader = DataLoader(test_dataset, batch_size=BATCH_SIZE)"
   ]
  },
  {
   "cell_type": "markdown",
   "metadata": {},
   "source": [
    "## 6.4 - Treinamento"
   ]
  },
  {
   "cell_type": "markdown",
   "metadata": {},
   "source": [
    "### 6.4.1 - Treinamento Desbalanceado (Usando pesos)"
   ]
  },
  {
   "cell_type": "code",
   "execution_count": 12,
   "metadata": {},
   "outputs": [
    {
     "name": "stdout",
     "output_type": "stream",
     "text": [
      "Epoch 25 | Train Loss: 894.2429 | Train Acc: 0.7113 | Test Loss: 383.4937 | Test Acc: 0.7165\n",
      "Epoch 50 | Train Loss: 795.7108 | Train Acc: 0.7693 | Test Loss: 343.2343 | Test Acc: 0.7690\n",
      "Epoch 75 | Train Loss: 739.8344 | Train Acc: 0.7852 | Test Loss: 320.3176 | Test Acc: 0.7869\n",
      "Epoch 100 | Train Loss: 702.7317 | Train Acc: 0.7949 | Test Loss: 305.1813 | Test Acc: 0.7935\n",
      "Epoch 125 | Train Loss: 675.8239 | Train Acc: 0.7985 | Test Loss: 294.3215 | Test Acc: 0.7976\n",
      "Epoch 150 | Train Loss: 655.0837 | Train Acc: 0.8006 | Test Loss: 286.0688 | Test Acc: 0.8007\n",
      "Epoch 175 | Train Loss: 638.3706 | Train Acc: 0.8012 | Test Loss: 279.5248 | Test Acc: 0.8024\n",
      "Epoch 200 | Train Loss: 624.4485 | Train Acc: 0.8027 | Test Loss: 274.1663 | Test Acc: 0.8028\n",
      "Epoch 225 | Train Loss: 612.5566 | Train Acc: 0.8035 | Test Loss: 269.6694 | Test Acc: 0.8035\n",
      "Epoch 250 | Train Loss: 602.2002 | Train Acc: 0.8041 | Test Loss: 265.8229 | Test Acc: 0.8055\n",
      "Epoch 275 | Train Loss: 593.0424 | Train Acc: 0.8052 | Test Loss: 262.4828 | Test Acc: 0.8079\n",
      "Epoch 300 | Train Loss: 584.8450 | Train Acc: 0.8060 | Test Loss: 259.5473 | Test Acc: 0.8076\n",
      "Epoch 325 | Train Loss: 577.4335 | Train Acc: 0.8062 | Test Loss: 256.9418 | Test Acc: 0.8079\n",
      "Epoch 350 | Train Loss: 570.6765 | Train Acc: 0.8089 | Test Loss: 254.6100 | Test Acc: 0.8087\n",
      "Epoch 375 | Train Loss: 564.4730 | Train Acc: 0.8105 | Test Loss: 252.5087 | Test Acc: 0.8122\n",
      "Epoch 400 | Train Loss: 558.7435 | Train Acc: 0.8115 | Test Loss: 250.6039 | Test Acc: 0.8118\n",
      "Epoch 425 | Train Loss: 553.4242 | Train Acc: 0.8120 | Test Loss: 248.8683 | Test Acc: 0.8142\n",
      "Epoch 450 | Train Loss: 548.4635 | Train Acc: 0.8120 | Test Loss: 247.2798 | Test Acc: 0.8157\n",
      "Epoch 475 | Train Loss: 543.8187 | Train Acc: 0.8126 | Test Loss: 245.8201 | Test Acc: 0.8164\n",
      "Epoch 500 | Train Loss: 539.4543 | Train Acc: 0.8132 | Test Loss: 244.4740 | Test Acc: 0.8168\n"
     ]
    }
   ],
   "source": [
    "from sklearn.metrics import accuracy_score\n",
    "\n",
    "def train_model(model, criterion, optimizer, train_loader, test_loader):\n",
    "    for epoch in range(1, EPOCHS + 1):\n",
    "        model.train()\n",
    "        total_loss_train = 0\n",
    "        all_preds_train = []\n",
    "        all_labels_train = []\n",
    "\n",
    "        for inputs, targets in train_loader:\n",
    "            inputs, targets = inputs.to(DEVICE), targets.to(DEVICE)\n",
    "            outputs = model(inputs)\n",
    "            loss = criterion(outputs, targets)\n",
    "\n",
    "            optimizer.zero_grad()\n",
    "            loss.backward()\n",
    "            optimizer.step()\n",
    "\n",
    "            total_loss_train += loss.item()\n",
    "            preds = torch.argmax(softmax(outputs, dim=1), dim=1)\n",
    "            all_preds_train.extend(preds.cpu().numpy())\n",
    "            all_labels_train.extend(targets.cpu().numpy())\n",
    "\n",
    "        if epoch % 25 == 0:\n",
    "            acc_train = accuracy_score(all_labels_train, all_preds_train)\n",
    "\n",
    "            model.eval()\n",
    "            total_loss_test = 0\n",
    "            all_preds_test = []\n",
    "            all_labels_test = []\n",
    "\n",
    "            with torch.no_grad():\n",
    "                for inputs, targets in test_loader:\n",
    "                    inputs, targets = inputs.to(DEVICE), targets.to(DEVICE)\n",
    "                    outputs = model(inputs)\n",
    "                    loss = criterion(outputs, targets)\n",
    "                    preds = torch.argmax(softmax(outputs, dim=1), dim=1)\n",
    "\n",
    "                    total_loss_test += loss.item()\n",
    "                    all_preds_test.extend(preds.cpu().numpy())\n",
    "                    all_labels_test.extend(targets.cpu().numpy())\n",
    "\n",
    "            acc_test = accuracy_score(all_labels_test, all_preds_test)\n",
    "\n",
    "            print(f\"Epoch {epoch} | \"\n",
    "                f\"Train Loss: {total_loss_train:.4f} | Train Acc: {acc_train:.4f} | \"\n",
    "                f\"Test Loss: {total_loss_test:.4f} | Test Acc: {acc_test:.4f}\")\n",
    "\n",
    "\n",
    "model_unbalanced = BERTClassifier()\n",
    "criterion = nn.CrossEntropyLoss(weight=class_weights_tensor)\n",
    "optimizer = torch.optim.Adam(model_unbalanced.parameters(), lr=2e-5)\n",
    "\n",
    "train_model(model_unbalanced, criterion, optimizer, train_loader, test_loader)"
   ]
  },
  {
   "cell_type": "code",
   "execution_count": 15,
   "metadata": {},
   "outputs": [
    {
     "name": "stdout",
     "output_type": "stream",
     "text": [
      "Matriz de confusão\n",
      " [[1192   27   68  208   21   37   68]\n",
      " [   6  383   11    0    0    0    1]\n",
      " [ 105    0 1844   16   14    9   18]\n",
      " [  90    2   15  198    3    8   25]\n",
      " [  10    1    7   12   12    2    3]\n",
      " [   6    2    4    6    2   13    3]\n",
      " [  14    0    7    7    1    1  103]]\n",
      "\n",
      "Classification Report\n",
      "                 precision    recall  f1-score   support\n",
      "\n",
      "Administrativa       0.84      0.74      0.78      1621\n",
      " Contabilidade       0.92      0.96      0.94       401\n",
      "        Fiscal       0.94      0.92      0.93      2006\n",
      "      Judicial       0.44      0.58      0.50       341\n",
      " Meio Ambiente       0.23      0.26      0.24        47\n",
      "   Patrimonial       0.19      0.36      0.25        36\n",
      "         Saúde       0.47      0.77      0.58       133\n",
      "\n",
      "      accuracy                           0.82      4585\n",
      "     macro avg       0.57      0.65      0.60      4585\n",
      "  weighted avg       0.84      0.82      0.82      4585\n",
      "\n"
     ]
    }
   ],
   "source": [
    "from sklearn.metrics import confusion_matrix, classification_report\n",
    "\n",
    "# Avaliação final do modelo\n",
    "model_unbalanced.eval()\n",
    "all_preds_final = []\n",
    "all_labels_final = []\n",
    "\n",
    "with torch.no_grad():\n",
    "    for inputs, targets in test_loader:\n",
    "        inputs, targets = inputs.to(DEVICE), targets.to(DEVICE)\n",
    "        outputs = model_unbalanced(inputs)\n",
    "        preds = torch.argmax(softmax(outputs, dim=1), dim=1)\n",
    "        all_preds_final.extend(preds.cpu().numpy())\n",
    "        all_labels_final.extend(targets.cpu().numpy())\n",
    "\n",
    "# Matriz de confusão\n",
    "cm = confusion_matrix(all_labels_final, all_preds_final)\n",
    "print('Matriz de confusão\\n', cm)\n",
    "\n",
    "# Classification report\n",
    "report = classification_report(all_labels_final, all_preds_final, target_names=le.classes_)\n",
    "print('\\nClassification Report\\n', report)"
   ]
  },
  {
   "cell_type": "code",
   "execution_count": 16,
   "metadata": {},
   "outputs": [
    {
     "name": "stdout",
     "output_type": "stream",
     "text": [
      "tensor([0, 3, 0, 0, 3, 0, 0, 0, 2, 1, 0, 0, 2, 2, 0, 2])\n",
      "tensor([[-1.3257e+00, -3.8422e+00, -8.5472e-02, -1.1962e+00, -1.5299e+00,\n",
      "         -1.7927e+00,  1.0070e-01],\n",
      "        [-7.6147e-01, -4.4241e+00,  4.4673e-02, -9.3418e-01, -1.7202e+00,\n",
      "         -1.4550e+00, -5.8641e-01],\n",
      "        [ 1.0196e+00, -3.1369e+00, -3.0099e+00,  6.8396e-01, -7.5353e-01,\n",
      "         -1.1246e+00, -1.8783e+00],\n",
      "        [ 2.6138e-01, -3.5752e+00, -2.2318e+00, -3.3441e-01, -7.5324e-01,\n",
      "         -1.4542e+00, -1.6968e+00],\n",
      "        [ 1.2223e+00, -2.8791e+00, -1.9233e+00,  1.3024e+00, -1.0842e+00,\n",
      "         -1.8190e+00, -2.4832e+00],\n",
      "        [-1.2187e+00, -5.2623e+00, -8.8672e-01, -1.9242e+00, -1.0336e+00,\n",
      "         -8.5677e-01, -2.5916e-01],\n",
      "        [ 2.6634e-01, -3.0978e+00, -8.9702e-01, -5.5766e-02, -1.2550e+00,\n",
      "         -1.2639e+00, -1.4869e+00],\n",
      "        [ 1.1649e+00, -7.7129e+00, -2.7089e+00, -5.5475e-01,  3.2430e-01,\n",
      "         -1.4303e+00, -3.0564e-02],\n",
      "        [ 3.7152e-03, -2.9457e+00,  6.1277e+00, -1.9253e+00, -9.8337e-01,\n",
      "         -2.1376e+00, -2.7247e+00],\n",
      "        [-6.1684e-02,  4.1063e+00, -4.4365e+00, -3.4082e-01, -2.2943e+00,\n",
      "         -1.8193e+00, -2.4283e+00],\n",
      "        [ 9.9087e-02, -3.9385e+00, -1.9665e+00, -1.5278e-01, -8.1380e-01,\n",
      "         -1.5702e+00, -1.4854e+00],\n",
      "        [ 2.5901e-01, -5.2511e+00, -1.6903e+00, -1.4326e+00, -1.3164e+00,\n",
      "         -1.2631e+00, -3.5402e-01],\n",
      "        [-1.3393e+00, -4.3718e+00,  3.1004e+00, -1.6722e+00, -1.7761e+00,\n",
      "         -1.8164e+00, -7.6412e-01],\n",
      "        [-1.2233e+00, -4.2541e+00,  3.1092e+00, -1.7550e+00, -1.6724e+00,\n",
      "         -1.7470e+00, -9.7734e-01],\n",
      "        [ 1.1279e+00, -2.8703e+00, -1.8305e+00,  9.5652e-01, -1.1967e+00,\n",
      "         -1.5967e+00, -2.2816e+00],\n",
      "        [-9.4258e-01, -5.0290e+00,  1.1507e+00, -1.5070e+00, -1.0359e+00,\n",
      "         -1.7529e+00, -4.2145e-01]])\n"
     ]
    }
   ],
   "source": [
    "model_unbalanced.eval()\n",
    "with torch.no_grad():\n",
    "    inputs, targets = next(iter(test_loader))\n",
    "    print(targets)\n",
    "    out = model_unbalanced(inputs)\n",
    "    print(out)"
   ]
  },
  {
   "cell_type": "markdown",
   "metadata": {},
   "source": [
    "### 6.4.2 - Treinamento Balanceado (RandomUnderSampler e SMOTE)"
   ]
  },
  {
   "cell_type": "code",
   "execution_count": 20,
   "metadata": {},
   "outputs": [
    {
     "data": {
      "text/plain": [
       "Counter({np.int64(2): 4680,\n",
       "         np.int64(0): 3782,\n",
       "         np.int64(1): 937,\n",
       "         np.int64(3): 796,\n",
       "         np.int64(6): 310,\n",
       "         np.int64(4): 108,\n",
       "         np.int64(5): 85})"
      ]
     },
     "execution_count": 20,
     "metadata": {},
     "output_type": "execute_result"
    }
   ],
   "source": [
    "Counter(y_train.numpy())"
   ]
  },
  {
   "cell_type": "code",
   "execution_count": 21,
   "metadata": {},
   "outputs": [],
   "source": [
    "dict_under_sampling = {2: 750,\n",
    "                       0: 750,\n",
    "                       1: 750,\n",
    "                       3: 750}"
   ]
  },
  {
   "cell_type": "code",
   "execution_count": 22,
   "metadata": {},
   "outputs": [],
   "source": [
    "from imblearn.under_sampling import RandomUnderSampler\n",
    "\n",
    "rus = RandomUnderSampler(sampling_strategy=dict_under_sampling, random_state=42)\n",
    "X_train_res, y_train_res = rus.fit_resample(X_train, y_train)"
   ]
  },
  {
   "cell_type": "code",
   "execution_count": 23,
   "metadata": {},
   "outputs": [
    {
     "data": {
      "text/plain": [
       "Counter({np.int64(0): 750,\n",
       "         np.int64(1): 750,\n",
       "         np.int64(2): 750,\n",
       "         np.int64(3): 750,\n",
       "         np.int64(6): 310,\n",
       "         np.int64(4): 108,\n",
       "         np.int64(5): 85})"
      ]
     },
     "execution_count": 23,
     "metadata": {},
     "output_type": "execute_result"
    }
   ],
   "source": [
    "Counter(y_train_res)"
   ]
  },
  {
   "cell_type": "code",
   "execution_count": 24,
   "metadata": {},
   "outputs": [],
   "source": [
    "from imblearn.over_sampling import SMOTE\n",
    "\n",
    "smote = SMOTE(random_state=42)\n",
    "X_train_res, y_train_res = smote.fit_resample(X_train_res, y_train_res)"
   ]
  },
  {
   "cell_type": "code",
   "execution_count": 25,
   "metadata": {},
   "outputs": [
    {
     "data": {
      "text/plain": [
       "Counter({np.int64(0): 750,\n",
       "         np.int64(1): 750,\n",
       "         np.int64(2): 750,\n",
       "         np.int64(3): 750,\n",
       "         np.int64(4): 750,\n",
       "         np.int64(5): 750,\n",
       "         np.int64(6): 750})"
      ]
     },
     "execution_count": 25,
     "metadata": {},
     "output_type": "execute_result"
    }
   ],
   "source": [
    "Counter(y_train_res)"
   ]
  },
  {
   "cell_type": "code",
   "execution_count": 26,
   "metadata": {},
   "outputs": [],
   "source": [
    "train_dataset = EmbeddingsDataset(X_train_res, y_train_res)\n",
    "# test_dataset = EmbeddingsDataset(X_test, y_test)\n",
    "\n",
    "train_loader = DataLoader(train_dataset, batch_size=BATCH_SIZE)\n",
    "# test_loader = DataLoader(test_dataset, batch_size=BATCH_SIZE)"
   ]
  },
  {
   "cell_type": "code",
   "execution_count": 29,
   "metadata": {},
   "outputs": [
    {
     "name": "stdout",
     "output_type": "stream",
     "text": [
      "Epoch 25 | Train Loss: 571.9347 | Train Acc: 0.3531 | Test Loss: 513.9794 | Test Acc: 0.4268\n",
      "Epoch 50 | Train Loss: 524.4705 | Train Acc: 0.4050 | Test Loss: 472.1254 | Test Acc: 0.4768\n",
      "Epoch 75 | Train Loss: 493.1247 | Train Acc: 0.4486 | Test Loss: 442.2420 | Test Acc: 0.5067\n",
      "Epoch 100 | Train Loss: 469.7796 | Train Acc: 0.4829 | Test Loss: 419.2922 | Test Acc: 0.5429\n",
      "Epoch 125 | Train Loss: 451.1320 | Train Acc: 0.5122 | Test Loss: 400.7156 | Test Acc: 0.5721\n",
      "Epoch 150 | Train Loss: 435.6381 | Train Acc: 0.5375 | Test Loss: 385.2096 | Test Acc: 0.5952\n",
      "Epoch 175 | Train Loss: 422.4529 | Train Acc: 0.5541 | Test Loss: 372.0256 | Test Acc: 0.6131\n",
      "Epoch 200 | Train Loss: 411.0531 | Train Acc: 0.5750 | Test Loss: 360.6779 | Test Acc: 0.6266\n",
      "Epoch 225 | Train Loss: 401.0825 | Train Acc: 0.5886 | Test Loss: 350.8210 | Test Acc: 0.6360\n",
      "Epoch 250 | Train Loss: 392.2816 | Train Acc: 0.5998 | Test Loss: 342.1934 | Test Acc: 0.6434\n",
      "Epoch 275 | Train Loss: 384.4511 | Train Acc: 0.6093 | Test Loss: 334.5894 | Test Acc: 0.6486\n",
      "Epoch 300 | Train Loss: 377.4336 | Train Acc: 0.6158 | Test Loss: 327.8440 | Test Acc: 0.6534\n",
      "Epoch 325 | Train Loss: 371.1021 | Train Acc: 0.6223 | Test Loss: 321.8230 | Test Acc: 0.6561\n",
      "Epoch 350 | Train Loss: 365.3531 | Train Acc: 0.6280 | Test Loss: 316.4165 | Test Acc: 0.6589\n",
      "Epoch 375 | Train Loss: 360.1019 | Train Acc: 0.6330 | Test Loss: 311.5342 | Test Acc: 0.6626\n",
      "Epoch 400 | Train Loss: 355.2787 | Train Acc: 0.6356 | Test Loss: 307.1016 | Test Acc: 0.6659\n",
      "Epoch 425 | Train Loss: 350.8259 | Train Acc: 0.6411 | Test Loss: 303.0570 | Test Acc: 0.6683\n",
      "Epoch 450 | Train Loss: 346.6956 | Train Acc: 0.6425 | Test Loss: 299.3490 | Test Acc: 0.6689\n",
      "Epoch 475 | Train Loss: 342.8480 | Train Acc: 0.6472 | Test Loss: 295.9347 | Test Acc: 0.6713\n",
      "Epoch 500 | Train Loss: 339.2496 | Train Acc: 0.6520 | Test Loss: 292.7783 | Test Acc: 0.6722\n",
      "Epoch 525 | Train Loss: 335.8722 | Train Acc: 0.6564 | Test Loss: 289.8496 | Test Acc: 0.6726\n",
      "Epoch 550 | Train Loss: 332.6920 | Train Acc: 0.6581 | Test Loss: 287.1228 | Test Acc: 0.6731\n",
      "Epoch 575 | Train Loss: 329.6886 | Train Acc: 0.6604 | Test Loss: 284.5760 | Test Acc: 0.6737\n",
      "Epoch 600 | Train Loss: 326.8444 | Train Acc: 0.6625 | Test Loss: 282.1907 | Test Acc: 0.6748\n",
      "Epoch 625 | Train Loss: 324.1444 | Train Acc: 0.6644 | Test Loss: 279.9508 | Test Acc: 0.6761\n",
      "Epoch 650 | Train Loss: 321.5754 | Train Acc: 0.6670 | Test Loss: 277.8422 | Test Acc: 0.6776\n",
      "Epoch 675 | Train Loss: 319.1262 | Train Acc: 0.6703 | Test Loss: 275.8529 | Test Acc: 0.6785\n",
      "Epoch 700 | Train Loss: 316.7866 | Train Acc: 0.6726 | Test Loss: 273.9724 | Test Acc: 0.6809\n",
      "Epoch 725 | Train Loss: 314.5477 | Train Acc: 0.6750 | Test Loss: 272.1912 | Test Acc: 0.6827\n",
      "Epoch 750 | Train Loss: 312.4018 | Train Acc: 0.6773 | Test Loss: 270.5011 | Test Acc: 0.6833\n",
      "Epoch 775 | Train Loss: 310.3419 | Train Acc: 0.6798 | Test Loss: 268.8949 | Test Acc: 0.6835\n",
      "Epoch 800 | Train Loss: 308.3617 | Train Acc: 0.6819 | Test Loss: 267.3659 | Test Acc: 0.6844\n",
      "Epoch 825 | Train Loss: 306.4557 | Train Acc: 0.6838 | Test Loss: 265.9085 | Test Acc: 0.6842\n",
      "Epoch 850 | Train Loss: 304.6189 | Train Acc: 0.6857 | Test Loss: 264.5173 | Test Acc: 0.6853\n",
      "Epoch 875 | Train Loss: 302.8465 | Train Acc: 0.6869 | Test Loss: 263.1878 | Test Acc: 0.6853\n",
      "Epoch 900 | Train Loss: 301.1347 | Train Acc: 0.6895 | Test Loss: 261.9156 | Test Acc: 0.6868\n",
      "Epoch 925 | Train Loss: 299.4796 | Train Acc: 0.6914 | Test Loss: 260.6968 | Test Acc: 0.6881\n",
      "Epoch 950 | Train Loss: 297.8779 | Train Acc: 0.6939 | Test Loss: 259.5281 | Test Acc: 0.6890\n",
      "Epoch 975 | Train Loss: 296.3263 | Train Acc: 0.6941 | Test Loss: 258.4062 | Test Acc: 0.6896\n",
      "Epoch 1000 | Train Loss: 294.8221 | Train Acc: 0.6952 | Test Loss: 257.3282 | Test Acc: 0.6901\n"
     ]
    }
   ],
   "source": [
    "EPOCHS = 1000\n",
    "\n",
    "model_balanced = BERTClassifier()\n",
    "criterion = nn.CrossEntropyLoss()\n",
    "optimizer = torch.optim.Adam(model_balanced.parameters(), lr=2e-5)\n",
    "\n",
    "train_model(model_balanced, criterion, optimizer, train_loader, test_loader)"
   ]
  },
  {
   "cell_type": "code",
   "execution_count": 34,
   "metadata": {},
   "outputs": [
    {
     "name": "stdout",
     "output_type": "stream",
     "text": [
      "Matriz de confusão\n",
      " [[ 675   23   54  258  351  200   60]\n",
      " [   1  383   10    1    4    1    1]\n",
      " [  17    0 1789   17  104   59   20]\n",
      " [  23    2   12  173   44   66   21]\n",
      " [   0    1    4   11   23    7    1]\n",
      " [   0    1    2    4    5   21    3]\n",
      " [   4    2    7    6    8    6  100]]\n",
      "\n",
      "Classification Report\n",
      "                 precision    recall  f1-score   support\n",
      "\n",
      "Administrativa       0.94      0.42      0.58      1621\n",
      " Contabilidade       0.93      0.96      0.94       401\n",
      "        Fiscal       0.95      0.89      0.92      2006\n",
      "      Judicial       0.37      0.51      0.43       341\n",
      " Meio Ambiente       0.04      0.49      0.08        47\n",
      "   Patrimonial       0.06      0.58      0.11        36\n",
      "         Saúde       0.49      0.75      0.59       133\n",
      "\n",
      "      accuracy                           0.69      4585\n",
      "     macro avg       0.54      0.66      0.52      4585\n",
      "  weighted avg       0.87      0.69      0.74      4585\n",
      "\n"
     ]
    }
   ],
   "source": [
    "# Avaliação final do modelo\n",
    "model_balanced.eval()\n",
    "all_preds_final = []\n",
    "all_labels_final = []\n",
    "\n",
    "with torch.no_grad():\n",
    "    for inputs, targets in test_loader:\n",
    "        inputs, targets = inputs.to(DEVICE), targets.to(DEVICE)\n",
    "        outputs = model_balanced(inputs)\n",
    "        preds_prob = softmax(outputs, dim=1)\n",
    "        preds = torch.argmax(softmax(outputs, dim=1), dim=1)\n",
    "        all_preds_final.extend(preds.cpu().numpy())\n",
    "        all_labels_final.extend(targets.cpu().numpy())\n",
    "\n",
    "# Matriz de confusão\n",
    "cm = confusion_matrix(all_labels_final, all_preds_final)\n",
    "print('Matriz de confusão\\n', cm)\n",
    "\n",
    "# Classification report\n",
    "report = classification_report(all_labels_final, all_preds_final, target_names=le.classes_)\n",
    "print('\\nClassification Report\\n', report)"
   ]
  },
  {
   "cell_type": "markdown",
   "metadata": {},
   "source": [
    "## 6.5 - RandomForest Classifier"
   ]
  },
  {
   "cell_type": "code",
   "execution_count": 41,
   "metadata": {},
   "outputs": [],
   "source": [
    "# Transofrmando os tensores em arrays\n",
    "X_train, X_test, y_train, y_test = X_train.numpy(), X_test.numpy(), y_train.numpy(), y_test.numpy()"
   ]
  },
  {
   "cell_type": "markdown",
   "metadata": {},
   "source": [
    "### 6.5.1 - Desbalanceado"
   ]
  },
  {
   "cell_type": "code",
   "execution_count": 48,
   "metadata": {},
   "outputs": [
    {
     "name": "stdout",
     "output_type": "stream",
     "text": [
      "0.8669574700109052\n"
     ]
    }
   ],
   "source": [
    "from sklearn.ensemble import RandomForestClassifier\n",
    "\n",
    "rf_clf = RandomForestClassifier(class_weight='balanced')\n",
    "rf_clf.fit(X_train, y_train)\n",
    "print(rf_clf.score(X_test, y_test))"
   ]
  },
  {
   "cell_type": "code",
   "execution_count": 50,
   "metadata": {},
   "outputs": [
    {
     "data": {
      "text/plain": [
       "array([[1486,   26,   77,   32,    0,    0,    0],\n",
       "       [  13,  376,   12,    0,    0,    0,    0],\n",
       "       [  93,    2, 1909,    1,    0,    0,    1],\n",
       "       [ 179,    2,   18,  137,    0,    1,    4],\n",
       "       [  25,    1,   12,    9,    0,    0,    0],\n",
       "       [  23,    1,    5,    4,    0,    3,    0],\n",
       "       [  54,    0,   11,    4,    0,    0,   64]])"
      ]
     },
     "execution_count": 50,
     "metadata": {},
     "output_type": "execute_result"
    }
   ],
   "source": [
    "confusion_matrix(y_true=y_test, y_pred=rf_clf.predict(X_test))"
   ]
  },
  {
   "cell_type": "code",
   "execution_count": 51,
   "metadata": {},
   "outputs": [
    {
     "name": "stdout",
     "output_type": "stream",
     "text": [
      "              precision    recall  f1-score   support\n",
      "\n",
      "           0       0.79      0.92      0.85      1621\n",
      "           1       0.92      0.94      0.93       401\n",
      "           2       0.93      0.95      0.94      2006\n",
      "           3       0.73      0.40      0.52       341\n",
      "           4       0.00      0.00      0.00        47\n",
      "           5       0.75      0.08      0.15        36\n",
      "           6       0.93      0.48      0.63       133\n",
      "\n",
      "    accuracy                           0.87      4585\n",
      "   macro avg       0.72      0.54      0.58      4585\n",
      "weighted avg       0.86      0.87      0.85      4585\n",
      "\n"
     ]
    }
   ],
   "source": [
    "print(classification_report(y_test, y_pred=rf_clf.predict(X_test)))"
   ]
  },
  {
   "cell_type": "code",
   "execution_count": 47,
   "metadata": {},
   "outputs": [
    {
     "data": {
      "text/plain": [
       "array([ 0.40409458,  1.63104132,  0.32655678,  1.91995693, 14.15079365,\n",
       "       17.97983193,  4.92995392])"
      ]
     },
     "execution_count": 47,
     "metadata": {},
     "output_type": "execute_result"
    }
   ],
   "source": [
    "10698 / (7 * np.bincount(y_train))"
   ]
  },
  {
   "cell_type": "code",
   "execution_count": 44,
   "metadata": {},
   "outputs": [
    {
     "data": {
      "text/plain": [
       "array([ 0.40409458,  1.63104132,  0.32655678,  1.91995693, 14.15079365,\n",
       "       17.97983193,  4.92995392])"
      ]
     },
     "execution_count": 44,
     "metadata": {},
     "output_type": "execute_result"
    }
   ],
   "source": [
    "class_weights"
   ]
  },
  {
   "cell_type": "code",
   "execution_count": null,
   "metadata": {},
   "outputs": [],
   "source": []
  }
 ],
 "metadata": {
  "kernelspec": {
   "display_name": "venv",
   "language": "python",
   "name": "python3"
  },
  "language_info": {
   "codemirror_mode": {
    "name": "ipython",
    "version": 3
   },
   "file_extension": ".py",
   "mimetype": "text/x-python",
   "name": "python",
   "nbconvert_exporter": "python",
   "pygments_lexer": "ipython3",
   "version": "3.12.3"
  }
 },
 "nbformat": 4,
 "nbformat_minor": 2
}
