{
 "cells": [
  {
   "cell_type": "code",
   "execution_count": 7,
   "metadata": {},
   "outputs": [],
   "source": [
    "import pandas as pd\n",
    "import numpy as np"
   ]
  },
  {
   "cell_type": "code",
   "execution_count": 3,
   "metadata": {},
   "outputs": [
    {
     "data": {
      "text/html": [
       "<div>\n",
       "<style scoped>\n",
       "    .dataframe tbody tr th:only-of-type {\n",
       "        vertical-align: middle;\n",
       "    }\n",
       "\n",
       "    .dataframe tbody tr th {\n",
       "        vertical-align: top;\n",
       "    }\n",
       "\n",
       "    .dataframe thead th {\n",
       "        text-align: right;\n",
       "    }\n",
       "</style>\n",
       "<table border=\"1\" class=\"dataframe\">\n",
       "  <thead>\n",
       "    <tr style=\"text-align: right;\">\n",
       "      <th></th>\n",
       "      <th>teorTexto</th>\n",
       "      <th>setorDestino</th>\n",
       "      <th>tipoAviso</th>\n",
       "      <th>orgaoJulgador</th>\n",
       "      <th>assuntos</th>\n",
       "      <th>documentos</th>\n",
       "      <th>anexos</th>\n",
       "      <th>classeProcesso</th>\n",
       "    </tr>\n",
       "  </thead>\n",
       "  <tbody>\n",
       "    <tr>\n",
       "      <th>0</th>\n",
       "      <td>PODER JUDICIÁRIO ESTADO DO RIO GRANDE DO NORTE...</td>\n",
       "      <td>Saúde</td>\n",
       "      <td>Intimação</td>\n",
       "      <td>2ª VIJ da Com. Natal</td>\n",
       "      <td>12485;12494</td>\n",
       "      <td>Decisão;Petição de manifestação;Despacho;Certi...</td>\n",
       "      <td>notaTecnica-228951.pdf - notaTecnica-228951;E-...</td>\n",
       "      <td>1706</td>\n",
       "    </tr>\n",
       "    <tr>\n",
       "      <th>1</th>\n",
       "      <td>PODER JUDICIÁRIO DO ESTADO DO RIO GRANDE DO NO...</td>\n",
       "      <td>Administrativa</td>\n",
       "      <td>Intimação</td>\n",
       "      <td>3º JFP da Com. Natal</td>\n",
       "      <td>10715</td>\n",
       "      <td>Notificação;Petição;Despacho;Diligência;Notifi...</td>\n",
       "      <td>FICHA FINANCEIRA;SEMAD - Joelma;08464942120228...</td>\n",
       "      <td>14695</td>\n",
       "    </tr>\n",
       "    <tr>\n",
       "      <th>2</th>\n",
       "      <td>PODER JUDICIÁRIO DO ESTADO DO RIO GRANDE DO NO...</td>\n",
       "      <td>Fiscal</td>\n",
       "      <td>Intimação</td>\n",
       "      <td>5ª VEFT de Natal</td>\n",
       "      <td>9518</td>\n",
       "      <td>Despacho;Petição;Despacho;Petição;Despacho;Pet...</td>\n",
       "      <td>docs habilitação;Sisbajud Positivo;CÁLCULOS;Ex...</td>\n",
       "      <td>156</td>\n",
       "    </tr>\n",
       "    <tr>\n",
       "      <th>3</th>\n",
       "      <td>PODER JUDICIÁRIO DO ESTADO DO RIO GRANDE DO NO...</td>\n",
       "      <td>Fiscal</td>\n",
       "      <td>Intimação</td>\n",
       "      <td>1ª VEFT de Natal</td>\n",
       "      <td>10534;5952</td>\n",
       "      <td>Despacho;Certidão;Certidão;Petição;Decisão;Pet...</td>\n",
       "      <td>ComprovanteValidacao - 2022-DP-PREC-47082;cda;...</td>\n",
       "      <td>12078</td>\n",
       "    </tr>\n",
       "    <tr>\n",
       "      <th>4</th>\n",
       "      <td>PODER JUDICIÁRIO DO ESTADO DO RIO GRANDE DO NO...</td>\n",
       "      <td>Administrativa</td>\n",
       "      <td>Intimação</td>\n",
       "      <td>5ª VFP da Com. Natal</td>\n",
       "      <td>10311</td>\n",
       "      <td>Petição;Decisão;Petição;Sentença;Petição;Decis...</td>\n",
       "      <td>calculos (1);LEI;justificativa;FICHA FINANCEIR...</td>\n",
       "      <td>12078</td>\n",
       "    </tr>\n",
       "  </tbody>\n",
       "</table>\n",
       "</div>"
      ],
      "text/plain": [
       "                                           teorTexto    setorDestino  \\\n",
       "0  PODER JUDICIÁRIO ESTADO DO RIO GRANDE DO NORTE...           Saúde   \n",
       "1  PODER JUDICIÁRIO DO ESTADO DO RIO GRANDE DO NO...  Administrativa   \n",
       "2  PODER JUDICIÁRIO DO ESTADO DO RIO GRANDE DO NO...          Fiscal   \n",
       "3  PODER JUDICIÁRIO DO ESTADO DO RIO GRANDE DO NO...          Fiscal   \n",
       "4  PODER JUDICIÁRIO DO ESTADO DO RIO GRANDE DO NO...  Administrativa   \n",
       "\n",
       "   tipoAviso         orgaoJulgador     assuntos  \\\n",
       "0  Intimação  2ª VIJ da Com. Natal  12485;12494   \n",
       "1  Intimação  3º JFP da Com. Natal        10715   \n",
       "2  Intimação      5ª VEFT de Natal         9518   \n",
       "3  Intimação      1ª VEFT de Natal   10534;5952   \n",
       "4  Intimação  5ª VFP da Com. Natal        10311   \n",
       "\n",
       "                                          documentos  \\\n",
       "0  Decisão;Petição de manifestação;Despacho;Certi...   \n",
       "1  Notificação;Petição;Despacho;Diligência;Notifi...   \n",
       "2  Despacho;Petição;Despacho;Petição;Despacho;Pet...   \n",
       "3  Despacho;Certidão;Certidão;Petição;Decisão;Pet...   \n",
       "4  Petição;Decisão;Petição;Sentença;Petição;Decis...   \n",
       "\n",
       "                                              anexos  classeProcesso  \n",
       "0  notaTecnica-228951.pdf - notaTecnica-228951;E-...            1706  \n",
       "1  FICHA FINANCEIRA;SEMAD - Joelma;08464942120228...           14695  \n",
       "2  docs habilitação;Sisbajud Positivo;CÁLCULOS;Ex...             156  \n",
       "3  ComprovanteValidacao - 2022-DP-PREC-47082;cda;...           12078  \n",
       "4  calculos (1);LEI;justificativa;FICHA FINANCEIR...           12078  "
      ]
     },
     "execution_count": 3,
     "metadata": {},
     "output_type": "execute_result"
    }
   ],
   "source": [
    "df = pd.read_csv('/home/esdras-daniel/Documentos/Python/Django/PGM-Text_Classificator/csv_data/pgm-dataset-processado.csv')\n",
    "df.head()"
   ]
  },
  {
   "cell_type": "code",
   "execution_count": 5,
   "metadata": {},
   "outputs": [
    {
     "data": {
      "text/html": [
       "<div>\n",
       "<style scoped>\n",
       "    .dataframe tbody tr th:only-of-type {\n",
       "        vertical-align: middle;\n",
       "    }\n",
       "\n",
       "    .dataframe tbody tr th {\n",
       "        vertical-align: top;\n",
       "    }\n",
       "\n",
       "    .dataframe thead th {\n",
       "        text-align: right;\n",
       "    }\n",
       "</style>\n",
       "<table border=\"1\" class=\"dataframe\">\n",
       "  <thead>\n",
       "    <tr style=\"text-align: right;\">\n",
       "      <th></th>\n",
       "      <th>teorTexto</th>\n",
       "      <th>setorDestino</th>\n",
       "    </tr>\n",
       "  </thead>\n",
       "  <tbody>\n",
       "    <tr>\n",
       "      <th>0</th>\n",
       "      <td>PODER JUDICIÁRIO ESTADO DO RIO GRANDE DO NORTE...</td>\n",
       "      <td>Saúde</td>\n",
       "    </tr>\n",
       "    <tr>\n",
       "      <th>1</th>\n",
       "      <td>PODER JUDICIÁRIO DO ESTADO DO RIO GRANDE DO NO...</td>\n",
       "      <td>Administrativa</td>\n",
       "    </tr>\n",
       "    <tr>\n",
       "      <th>2</th>\n",
       "      <td>PODER JUDICIÁRIO DO ESTADO DO RIO GRANDE DO NO...</td>\n",
       "      <td>Fiscal</td>\n",
       "    </tr>\n",
       "    <tr>\n",
       "      <th>3</th>\n",
       "      <td>PODER JUDICIÁRIO DO ESTADO DO RIO GRANDE DO NO...</td>\n",
       "      <td>Fiscal</td>\n",
       "    </tr>\n",
       "    <tr>\n",
       "      <th>4</th>\n",
       "      <td>PODER JUDICIÁRIO DO ESTADO DO RIO GRANDE DO NO...</td>\n",
       "      <td>Administrativa</td>\n",
       "    </tr>\n",
       "  </tbody>\n",
       "</table>\n",
       "</div>"
      ],
      "text/plain": [
       "                                           teorTexto    setorDestino\n",
       "0  PODER JUDICIÁRIO ESTADO DO RIO GRANDE DO NORTE...           Saúde\n",
       "1  PODER JUDICIÁRIO DO ESTADO DO RIO GRANDE DO NO...  Administrativa\n",
       "2  PODER JUDICIÁRIO DO ESTADO DO RIO GRANDE DO NO...          Fiscal\n",
       "3  PODER JUDICIÁRIO DO ESTADO DO RIO GRANDE DO NO...          Fiscal\n",
       "4  PODER JUDICIÁRIO DO ESTADO DO RIO GRANDE DO NO...  Administrativa"
      ]
     },
     "execution_count": 5,
     "metadata": {},
     "output_type": "execute_result"
    }
   ],
   "source": [
    "df_clean = df.drop(['tipoAviso', 'orgaoJulgador', 'assuntos', 'documentos', 'anexos', 'classeProcesso'], axis=1)\n",
    "df_clean.head()"
   ]
  },
  {
   "cell_type": "code",
   "execution_count": 29,
   "metadata": {},
   "outputs": [],
   "source": [
    "N = 200\n",
    "\n",
    "unique_classes = np.unique(df_clean['setorDestino'])\n",
    "df_list = []\n",
    "\n",
    "for class_ in unique_classes:\n",
    "    df_classe = df_clean[df_clean['setorDestino'] == class_]\n",
    "    if len(df_classe) > N:\n",
    "        df_list.append(df_classe.sample(N, replace=False, random_state=42))\n",
    "    else:\n",
    "        df_list.append(df_classe)"
   ]
  },
  {
   "cell_type": "code",
   "execution_count": 30,
   "metadata": {},
   "outputs": [
    {
     "name": "stdout",
     "output_type": "stream",
     "text": [
      "                                               teorTexto    setorDestino\n",
      "14643  DECISÃO  Vistos etc.,  Trata-se de Agravo inte...  Administrativa\n",
      "14486  Poder Judiciário do Rio Grande do Norte1ª Turm...  Administrativa\n",
      "6659   PODER JUDICIÁRIO DO ESTADO DO RIO GRANDE DO NO...  Administrativa\n"
     ]
    },
    {
     "data": {
      "text/plain": [
       "setorDestino\n",
       "Administrativa    200\n",
       "Contabilidade     200\n",
       "Fiscal            200\n",
       "Judicial          200\n",
       "Saúde             200\n",
       "Meio Ambiente     155\n",
       "Patrimonial       121\n",
       "Name: count, dtype: int64"
      ]
     },
     "execution_count": 30,
     "metadata": {},
     "output_type": "execute_result"
    }
   ],
   "source": [
    "df_short = pd.concat(df_list)\n",
    "print(df_short.head(3))\n",
    "df_short['setorDestino'].value_counts()"
   ]
  },
  {
   "cell_type": "code",
   "execution_count": 31,
   "metadata": {},
   "outputs": [],
   "source": [
    "df_short.reset_index(drop=True, inplace=True)"
   ]
  },
  {
   "cell_type": "code",
   "execution_count": 32,
   "metadata": {},
   "outputs": [],
   "source": [
    "df_short.to_csv('/home/esdras-daniel/Documentos/Python/Django/PGM-Text_Classificator/csv_data/text_rule_extraction.csv')"
   ]
  },
  {
   "cell_type": "code",
   "execution_count": null,
   "metadata": {},
   "outputs": [],
   "source": []
  }
 ],
 "metadata": {
  "kernelspec": {
   "display_name": "venv",
   "language": "python",
   "name": "python3"
  },
  "language_info": {
   "codemirror_mode": {
    "name": "ipython",
    "version": 3
   },
   "file_extension": ".py",
   "mimetype": "text/x-python",
   "name": "python",
   "nbconvert_exporter": "python",
   "pygments_lexer": "ipython3",
   "version": "3.12.3"
  }
 },
 "nbformat": 4,
 "nbformat_minor": 2
}
