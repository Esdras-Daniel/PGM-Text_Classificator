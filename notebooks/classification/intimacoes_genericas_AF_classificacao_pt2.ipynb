{
 "cells": [
  {
   "cell_type": "markdown",
   "id": "843ed009",
   "metadata": {},
   "source": [
    "# 1. Data Loading"
   ]
  },
  {
   "cell_type": "code",
   "execution_count": 16,
   "id": "09f28770",
   "metadata": {},
   "outputs": [
    {
     "data": {
      "text/html": [
       "<div>\n",
       "<style scoped>\n",
       "    .dataframe tbody tr th:only-of-type {\n",
       "        vertical-align: middle;\n",
       "    }\n",
       "\n",
       "    .dataframe tbody tr th {\n",
       "        vertical-align: top;\n",
       "    }\n",
       "\n",
       "    .dataframe thead th {\n",
       "        text-align: right;\n",
       "    }\n",
       "</style>\n",
       "<table border=\"1\" class=\"dataframe\">\n",
       "  <thead>\n",
       "    <tr style=\"text-align: right;\">\n",
       "      <th></th>\n",
       "      <th>Teor Texto</th>\n",
       "      <th>É Genérica?</th>\n",
       "    </tr>\n",
       "  </thead>\n",
       "  <tbody>\n",
       "    <tr>\n",
       "      <th>0</th>\n",
       "      <td>- vista dos autos à fazenda pública   em confo...</td>\n",
       "      <td>Não</td>\n",
       "    </tr>\n",
       "    <tr>\n",
       "      <th>1</th>\n",
       "      <td>- vista dos autos à fazenda pública   em confo...</td>\n",
       "      <td>Sim</td>\n",
       "    </tr>\n",
       "    <tr>\n",
       "      <th>2</th>\n",
       "      <td>- vista dos autos à fazenda pública   em confo...</td>\n",
       "      <td>Sim</td>\n",
       "    </tr>\n",
       "    <tr>\n",
       "      <th>3</th>\n",
       "      <td>- vista dos autos à fazenda pública   em confo...</td>\n",
       "      <td>Sim</td>\n",
       "    </tr>\n",
       "    <tr>\n",
       "      <th>4</th>\n",
       "      <td>- vista dos autos à fazenda pública   em confo...</td>\n",
       "      <td>Sim</td>\n",
       "    </tr>\n",
       "  </tbody>\n",
       "</table>\n",
       "</div>"
      ],
      "text/plain": [
       "                                          Teor Texto É Genérica?\n",
       "0  - vista dos autos à fazenda pública   em confo...         Não\n",
       "1  - vista dos autos à fazenda pública   em confo...         Sim\n",
       "2  - vista dos autos à fazenda pública   em confo...         Sim\n",
       "3  - vista dos autos à fazenda pública   em confo...         Sim\n",
       "4  - vista dos autos à fazenda pública   em confo...         Sim"
      ]
     },
     "execution_count": 16,
     "metadata": {},
     "output_type": "execute_result"
    }
   ],
   "source": [
    "import numpy as np\n",
    "import pandas as pd\n",
    "\n",
    "planilha = 'https://docs.google.com/spreadsheets/d/1tF1oTADXJ8Yd48lEEr-EuWCeI2nYNgbcaKwumjRMaYI/export?format=csv'\n",
    "\n",
    "df_int_gen_AF = pd.read_csv(planilha)\n",
    "df_int_gen_AF.head()"
   ]
  },
  {
   "cell_type": "code",
   "execution_count": 17,
   "id": "59228b7f",
   "metadata": {},
   "outputs": [
    {
     "data": {
      "text/plain": [
       "É Genérica?\n",
       "Sim    350\n",
       "Não    256\n",
       "Name: count, dtype: int64"
      ]
     },
     "execution_count": 17,
     "metadata": {},
     "output_type": "execute_result"
    }
   ],
   "source": [
    "df_int_gen_AF['É Genérica?'].value_counts()"
   ]
  },
  {
   "cell_type": "code",
   "execution_count": 18,
   "id": "985469a0",
   "metadata": {},
   "outputs": [],
   "source": [
    "X_texts = df_int_gen_AF['Teor Texto'].to_numpy()\n",
    "y = np.array([1 if ans == 'Sim' else 0 for ans in df_int_gen_AF['É Genérica?']])"
   ]
  },
  {
   "cell_type": "markdown",
   "id": "6d83cfa7",
   "metadata": {},
   "source": [
    "# 2. Classificação"
   ]
  },
  {
   "cell_type": "code",
   "execution_count": null,
   "id": "6ab9fdc6",
   "metadata": {},
   "outputs": [
    {
     "name": "stdout",
     "output_type": "stream",
     "text": [
      "Acurácia --> Média: 92.79% Std: 2.71%\n",
      "Precisão --> Média: 95.06% Std: 4.71%\n",
      "Recall   --> Média: 92.57% Std: 2.77%\n",
      "F1-Score --> Média: 93.68% Std: 2.20%\n",
      "AUC      --> Média: 0.98 Std: 0.01\n"
     ]
    }
   ],
   "source": [
    "from sklearn.feature_extraction.text import TfidfVectorizer\n",
    "from sklearn.ensemble import RandomForestClassifier\n",
    "from sklearn.svm import LinearSVC, SVC\n",
    "from sklearn.tree import DecisionTreeClassifier\n",
    "from sklearn.pipeline import Pipeline\n",
    "\n",
    "from sklearn.model_selection import cross_val_score, StratifiedKFold\n",
    "\n",
    "from sklearn.metrics import accuracy_score, precision_score, recall_score, f1_score, roc_auc_score, \n",
    "\n",
    "pipeline = Pipeline(steps=[\n",
    "    ('feature-extraction', TfidfVectorizer(max_features=3000, ngram_range=(1,1))),\n",
    "    ('clf', SVC(probability=True))\n",
    "])\n",
    "\n",
    "skf = StratifiedKFold(n_splits=5, shuffle=True)\n",
    "\n",
    "acc_scores = []\n",
    "precision_scores = []\n",
    "recall_scores = []\n",
    "f1_scores = []\n",
    "auc = []\n",
    "\n",
    "for i, (train, test) in enumerate(skf.split(X_texts, y)):\n",
    "    # Treinando\n",
    "    pipeline.fit(X_texts[train], y[train])\n",
    "\n",
    "    # Predict\n",
    "    y_pred = pipeline.predict(X_texts[test])\n",
    "    y_pred_proba = pipeline.predict_proba(X_texts[test])\n",
    "\n",
    "    # Avaliando\n",
    "    acc_scores.append(100*accuracy_score(y[test], y_pred))\n",
    "    precision_scores.append(100*precision_score(y[test], y_pred))\n",
    "    recall_scores.append(100*recall_score(y[test], y_pred))\n",
    "    f1_scores.append(100*f1_score(y[test], y_pred))\n",
    "    auc.append(roc_auc_score(y[test], y_pred_proba[:,1]))\n",
    "\n",
    "print(f'Acurácia --> Média: {np.mean(acc_scores):.2f}% Std: {np.std(acc_scores):.2f}%')\n",
    "print(f'Precisão --> Média: {np.mean(precision_scores):.2f}% Std: {np.std(precision_scores):.2f}%')\n",
    "print(f'Recall   --> Média: {np.mean(recall_scores):.2f}% Std: {np.std(recall_scores):.2f}%')\n",
    "print(f'F1-Score --> Média: {np.mean(f1_scores):.2f}% Std: {np.std(f1_scores):.2f}%')\n",
    "print(f'AUC      --> Média: {np.mean(auc):.2f} Std: {np.std(auc):.2f}')"
   ]
  },
  {
   "cell_type": "code",
   "execution_count": 22,
   "id": "109a91e8",
   "metadata": {},
   "outputs": [],
   "source": [
    "from sklearn.metrics import roc_curve\n",
    "\n",
    "roc = roc_curve(y[test], y_pred_proba[:,1])"
   ]
  },
  {
   "cell_type": "code",
   "execution_count": 23,
   "id": "615e7822",
   "metadata": {},
   "outputs": [
    {
     "data": {
      "image/png": "[encoded data removed]",
      "text/plain": [
       "<Figure size 640x480 with 1 Axes>"
      ]
     },
     "metadata": {},
     "output_type": "display_data"
    }
   ],
   "source": [
    "import matplotlib.pyplot as plt\n",
    "\n",
    "plt.figure(dpi=100)\n",
    "plt.plot(roc[0], roc[1])\n",
    "plt.grid()\n",
    "plt.title('Curva ROC')\n",
    "plt.xlabel('1 - Especificidade')\n",
    "plt.ylabel('Recall')\n",
    "\n",
    "plt.show()"
   ]
  },
  {
   "cell_type": "code",
   "execution_count": null,
   "id": "8813c948",
   "metadata": {},
   "outputs": [
    {
     "data": {
      "text/plain": [
       "(array([0.        , 0.        , 0.        , 0.        , 0.        ,\n",
       "        0.        , 0.        , 0.        , 0.        , 0.        ,\n",
       "        0.        , 0.        , 0.01923077, 0.01923077, 0.01923077,\n",
       "        0.01923077, 0.03846154, 0.03846154, 0.05769231, 0.05769231,\n",
       "        0.09615385, 0.11538462, 0.11538462, 0.17307692, 0.21153846,\n",
       "        0.23076923, 0.34615385, 0.38461538, 0.40384615, 0.44230769,\n",
       "        0.48076923, 0.48076923, 0.53846154, 0.55769231, 0.59615385,\n",
       "        0.61538462, 0.65384615, 0.71153846, 0.94230769, 1.        ]),\n",
       " array([0.        , 0.32857143, 0.4       , 0.41428571, 0.47142857,\n",
       "        0.5       , 0.54285714, 0.6       , 0.61428571, 0.65714286,\n",
       "        0.74285714, 0.75714286, 0.77142857, 0.81428571, 0.84285714,\n",
       "        0.85714286, 0.85714286, 0.88571429, 0.88571429, 0.91428571,\n",
       "        0.94285714, 0.94285714, 0.95714286, 0.95714286, 0.95714286,\n",
       "        0.98571429, 0.98571429, 0.98571429, 0.98571429, 0.98571429,\n",
       "        0.98571429, 1.        , 1.        , 1.        , 1.        ,\n",
       "        1.        , 1.        , 1.        , 1.        , 1.        ]),\n",
       " array([ inf, 1.  , 0.99, 0.98, 0.96, 0.95, 0.94, 0.91, 0.87, 0.86, 0.81,\n",
       "        0.8 , 0.78, 0.73, 0.72, 0.69, 0.67, 0.6 , 0.59, 0.52, 0.48, 0.43,\n",
       "        0.42, 0.38, 0.36, 0.34, 0.23, 0.22, 0.21, 0.2 , 0.18, 0.17, 0.11,\n",
       "        0.09, 0.08, 0.07, 0.06, 0.05, 0.01, 0.  ]))"
      ]
     },
     "execution_count": 15,
     "metadata": {},
     "output_type": "execute_result"
    }
   ],
   "source": [
    "roc"
   ]
  },
  {
   "cell_type": "code",
   "execution_count": null,
   "id": "e7122799",
   "metadata": {},
   "outputs": [],
   "source": []
  }
 ],
 "metadata": {
  "kernelspec": {
   "display_name": "venv",
   "language": "python",
   "name": "python3"
  },
  "language_info": {
   "codemirror_mode": {
    "name": "ipython",
    "version": 3
   },
   "file_extension": ".py",
   "mimetype": "text/x-python",
   "name": "python",
   "nbconvert_exporter": "python",
   "pygments_lexer": "ipython3",
   "version": "3.12.3"
  }
 },
 "nbformat": 4,
 "nbformat_minor": 5
}
